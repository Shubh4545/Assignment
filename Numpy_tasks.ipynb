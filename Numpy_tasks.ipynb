{
  "cells": [
    {
      "cell_type": "markdown",
      "metadata": {
        "id": "view-in-github",
        "colab_type": "text"
      },
      "source": [
        "<a href=\"https://colab.research.google.com/github/Shubh4545/Assignment/blob/main/Numpy_tasks.ipynb\" target=\"_parent\"><img src=\"https://colab.research.google.com/assets/colab-badge.svg\" alt=\"Open In Colab\"/></a>"
      ]
    },
    {
      "cell_type": "markdown",
      "metadata": {
        "id": "pMFfdcwaprlz"
      },
      "source": [
        "# Numpy\n",
        "\n"
      ]
    },
    {
      "cell_type": "markdown",
      "metadata": {
        "id": "gqOY2eg7prl6"
      },
      "source": [
        "#### 1. Import the numpy package under the name `np` (★☆☆) \n",
        "(**hint**: import … as …)"
      ]
    },
    {
      "cell_type": "code",
      "execution_count": null,
      "metadata": {
        "collapsed": true,
        "id": "kYnn-TYTprl7"
      },
      "outputs": [],
      "source": [
        "import numpy as np"
      ]
    },
    {
      "cell_type": "markdown",
      "metadata": {
        "id": "-GRbedZCprl7"
      },
      "source": [
        "#### 2. Print the numpy version and the configuration (★☆☆) \n",
        "(**hint**: np.\\_\\_version\\_\\_, np.show\\_config)"
      ]
    },
    {
      "cell_type": "code",
      "execution_count": null,
      "metadata": {
        "colab": {
          "base_uri": "https://localhost:8080/"
        },
        "id": "2BYO8rI4prl8",
        "outputId": "33c25047-d3b6-4e27-8468-21a35002b7dc"
      },
      "outputs": [
        {
          "output_type": "stream",
          "name": "stdout",
          "text": [
            "1.21.6\n",
            "blas_mkl_info:\n",
            "  NOT AVAILABLE\n",
            "blis_info:\n",
            "  NOT AVAILABLE\n",
            "openblas_info:\n",
            "    libraries = ['openblas', 'openblas']\n",
            "    library_dirs = ['/usr/local/lib']\n",
            "    language = c\n",
            "    define_macros = [('HAVE_CBLAS', None)]\n",
            "    runtime_library_dirs = ['/usr/local/lib']\n",
            "blas_opt_info:\n",
            "    libraries = ['openblas', 'openblas']\n",
            "    library_dirs = ['/usr/local/lib']\n",
            "    language = c\n",
            "    define_macros = [('HAVE_CBLAS', None)]\n",
            "    runtime_library_dirs = ['/usr/local/lib']\n",
            "lapack_mkl_info:\n",
            "  NOT AVAILABLE\n",
            "openblas_lapack_info:\n",
            "    libraries = ['openblas', 'openblas']\n",
            "    library_dirs = ['/usr/local/lib']\n",
            "    language = c\n",
            "    define_macros = [('HAVE_CBLAS', None)]\n",
            "    runtime_library_dirs = ['/usr/local/lib']\n",
            "lapack_opt_info:\n",
            "    libraries = ['openblas', 'openblas']\n",
            "    library_dirs = ['/usr/local/lib']\n",
            "    language = c\n",
            "    define_macros = [('HAVE_CBLAS', None)]\n",
            "    runtime_library_dirs = ['/usr/local/lib']\n",
            "Supported SIMD extensions in this NumPy install:\n",
            "    baseline = SSE,SSE2,SSE3\n",
            "    found = SSSE3,SSE41,POPCNT,SSE42,AVX,F16C,FMA3,AVX2\n",
            "    not found = AVX512F,AVX512CD,AVX512_KNL,AVX512_KNM,AVX512_SKX,AVX512_CLX,AVX512_CNL,AVX512_ICL\n",
            "None\n"
          ]
        }
      ],
      "source": [
        "import numpy as np\n",
        "print(np.__version__)\n",
        "print(np.show_config())\n"
      ]
    },
    {
      "cell_type": "markdown",
      "metadata": {
        "id": "5oh3EsAXprl8"
      },
      "source": [
        "#### 3. Create a null vector of size 10 (★☆☆) \n",
        "(**hint**: np.zeros)"
      ]
    },
    {
      "cell_type": "code",
      "execution_count": null,
      "metadata": {
        "colab": {
          "base_uri": "https://localhost:8080/"
        },
        "id": "RVUXEt1lprl9",
        "outputId": "3869c9c8-9b8c-4518-cb6e-c060165568cf"
      },
      "outputs": [
        {
          "output_type": "stream",
          "name": "stdout",
          "text": [
            "[0. 0. 0. 0. 0. 0. 0. 0. 0. 0.]\n"
          ]
        }
      ],
      "source": [
        "import numpy as np\n",
        "x = np.zeros(10)\n",
        "print(x)"
      ]
    },
    {
      "cell_type": "markdown",
      "metadata": {
        "id": "GCnzeVOjprl9"
      },
      "source": [
        "#### 4.  How to find the memory size of any array (★☆☆) \n",
        "(**hint**: size, itemsize)"
      ]
    },
    {
      "cell_type": "code",
      "execution_count": null,
      "metadata": {
        "colab": {
          "base_uri": "https://localhost:8080/"
        },
        "id": "vgEL-fwUprl-",
        "outputId": "e2f4e443-f390-4f4d-e74a-af15fd674c22"
      },
      "outputs": [
        {
          "output_type": "stream",
          "name": "stdout",
          "text": [
            "10\n"
          ]
        }
      ],
      "source": [
        "import numpy as np\n",
        "x = np.zeros(10)\n",
        "print(x.size)"
      ]
    },
    {
      "cell_type": "markdown",
      "metadata": {
        "id": "9_nYVuukprl-"
      },
      "source": [
        "#### 5.  How to get the documentation of the numpy add function from the command line? (★☆☆) \n",
        "(**hint**: np.info)"
      ]
    },
    {
      "cell_type": "code",
      "execution_count": null,
      "metadata": {
        "collapsed": true,
        "colab": {
          "base_uri": "https://localhost:8080/"
        },
        "id": "OsL74C5wprl_",
        "outputId": "0a034b2a-bed0-4d31-ed1c-37f37f05cfe7"
      },
      "outputs": [
        {
          "output_type": "stream",
          "name": "stdout",
          "text": [
            "add(x1, x2, /, out=None, *, where=True, casting='same_kind', order='K', dtype=None, subok=True[, signature, extobj])\n",
            "\n",
            "Add arguments element-wise.\n",
            "\n",
            "Parameters\n",
            "----------\n",
            "x1, x2 : array_like\n",
            "    The arrays to be added.\n",
            "    If ``x1.shape != x2.shape``, they must be broadcastable to a common\n",
            "    shape (which becomes the shape of the output).\n",
            "out : ndarray, None, or tuple of ndarray and None, optional\n",
            "    A location into which the result is stored. If provided, it must have\n",
            "    a shape that the inputs broadcast to. If not provided or None,\n",
            "    a freshly-allocated array is returned. A tuple (possible only as a\n",
            "    keyword argument) must have length equal to the number of outputs.\n",
            "where : array_like, optional\n",
            "    This condition is broadcast over the input. At locations where the\n",
            "    condition is True, the `out` array will be set to the ufunc result.\n",
            "    Elsewhere, the `out` array will retain its original value.\n",
            "    Note that if an uninitialized `out` array is created via the default\n",
            "    ``out=None``, locations within it where the condition is False will\n",
            "    remain uninitialized.\n",
            "**kwargs\n",
            "    For other keyword-only arguments, see the\n",
            "    :ref:`ufunc docs <ufuncs.kwargs>`.\n",
            "\n",
            "Returns\n",
            "-------\n",
            "add : ndarray or scalar\n",
            "    The sum of `x1` and `x2`, element-wise.\n",
            "    This is a scalar if both `x1` and `x2` are scalars.\n",
            "\n",
            "Notes\n",
            "-----\n",
            "Equivalent to `x1` + `x2` in terms of array broadcasting.\n",
            "\n",
            "Examples\n",
            "--------\n",
            ">>> np.add(1.0, 4.0)\n",
            "5.0\n",
            ">>> x1 = np.arange(9.0).reshape((3, 3))\n",
            ">>> x2 = np.arange(3.0)\n",
            ">>> np.add(x1, x2)\n",
            "array([[  0.,   2.,   4.],\n",
            "       [  3.,   5.,   7.],\n",
            "       [  6.,   8.,  10.]])\n",
            "\n",
            "The ``+`` operator can be used as a shorthand for ``np.add`` on ndarrays.\n",
            "\n",
            ">>> x1 = np.arange(9.0).reshape((3, 3))\n",
            ">>> x2 = np.arange(3.0)\n",
            ">>> x1 + x2\n",
            "array([[ 0.,  2.,  4.],\n",
            "       [ 3.,  5.,  7.],\n",
            "       [ 6.,  8., 10.]])\n",
            "None\n"
          ]
        }
      ],
      "source": [
        "import numpy as np\n",
        "print(np.info(np.add))"
      ]
    },
    {
      "cell_type": "markdown",
      "metadata": {
        "id": "J9icyBpgprl_"
      },
      "source": [
        "#### 6.  Create a null vector of size 10 but the fifth value which is 1 (★☆☆) \n",
        "(**hint**: array\\[4\\])"
      ]
    },
    {
      "cell_type": "code",
      "execution_count": null,
      "metadata": {
        "colab": {
          "base_uri": "https://localhost:8080/"
        },
        "id": "2Mkcs_ySprl_",
        "outputId": "a53cf42a-6d70-4151-e899-768cfba6f545"
      },
      "outputs": [
        {
          "output_type": "stream",
          "name": "stdout",
          "text": [
            "[0. 0. 0. 0. 1. 0. 0. 0. 0. 0.]\n"
          ]
        }
      ],
      "source": [
        "import numpy as np\n",
        "x = np.zeros(10)\n",
        "x[4]=1\n",
        "print(x)"
      ]
    },
    {
      "cell_type": "markdown",
      "metadata": {
        "id": "F07qSMXkprmA"
      },
      "source": [
        "#### 7.  Create a vector with values ranging from 10 to 49 (★☆☆) \n",
        "(**hint**: np.arange)"
      ]
    },
    {
      "cell_type": "code",
      "execution_count": null,
      "metadata": {
        "colab": {
          "base_uri": "https://localhost:8080/"
        },
        "id": "dHR3sw3gprmA",
        "outputId": "0cc59f3c-24d9-4586-e452-3c158f24f95b"
      },
      "outputs": [
        {
          "output_type": "stream",
          "name": "stdout",
          "text": [
            "[10 11 12 13 14 15 16 17 18 19 20 21 22 23 24 25 26 27 28 29 30 31 32 33\n",
            " 34 35 36 37 38 39 40 41 42 43 44 45 46 47 48]\n"
          ]
        }
      ],
      "source": [
        "import numpy as np\n",
        "v = np.arange(10,49)\n",
        "print(v)"
      ]
    },
    {
      "cell_type": "markdown",
      "metadata": {
        "id": "Qoro5s5WprmA"
      },
      "source": [
        "#### 8.  Reverse a vector (first element becomes last) (★☆☆) \n",
        "(**hint**: array\\[::-1\\])"
      ]
    },
    {
      "cell_type": "code",
      "execution_count": null,
      "metadata": {
        "colab": {
          "base_uri": "https://localhost:8080/"
        },
        "id": "T70JXkzMprmA",
        "outputId": "769e1d02-d804-4ea6-90d2-c2c4347e5938"
      },
      "outputs": [
        {
          "output_type": "stream",
          "name": "stdout",
          "text": [
            "[9, 8, 7, 6, 5, 4, 3, 2, 1]\n"
          ]
        }
      ],
      "source": [
        "v=[1,2,3,4,5,6,7,8,9]\n",
        "print(v[::-1])"
      ]
    },
    {
      "cell_type": "markdown",
      "metadata": {
        "id": "UQJ2avWqprmB"
      },
      "source": [
        "#### 9.  Create a 3x3 matrix with values ranging from 0 to 8 (★☆☆) \n",
        "(**hint**: reshape)"
      ]
    },
    {
      "cell_type": "code",
      "execution_count": null,
      "metadata": {
        "colab": {
          "base_uri": "https://localhost:8080/"
        },
        "id": "sMpD2AD8prmB",
        "outputId": "ae39634d-2be8-4c4b-ee35-a3beea209377"
      },
      "outputs": [
        {
          "output_type": "stream",
          "name": "stdout",
          "text": [
            "[[0 1 2]\n",
            " [3 4 5]\n",
            " [6 7 8]]\n"
          ]
        }
      ],
      "source": [
        "import numpy as np\n",
        "\n",
        "arr = np.array([0,1, 2, 3, 4, 5, 6, 7, 8])\n",
        "\n",
        "newarr = arr.reshape(3,3)\n",
        "\n",
        "print(newarr)"
      ]
    },
    {
      "cell_type": "markdown",
      "metadata": {
        "id": "jUuLISIIprmB"
      },
      "source": [
        "#### 10. Find indices of non-zero elements from \\[1,2,0,0,4,0\\] (★☆☆) \n",
        "(**hint**: np.nonzero)"
      ]
    },
    {
      "cell_type": "code",
      "execution_count": null,
      "metadata": {
        "colab": {
          "base_uri": "https://localhost:8080/"
        },
        "id": "eIybjlrYprmC",
        "outputId": "f6377779-a860-4185-93e6-4766af2a0f1c"
      },
      "outputs": [
        {
          "output_type": "stream",
          "name": "stdout",
          "text": [
            "[2 3 5]\n"
          ]
        }
      ],
      "source": [
        "import numpy as np\n",
        "nums = np.array([1,2,0,0,4,0])\n",
        "result = np.where(nums == 0)[0]\n",
        "print(result)\n"
      ]
    },
    {
      "cell_type": "markdown",
      "metadata": {
        "id": "p9raBTMoprmC"
      },
      "source": [
        "#### 11. Create a 3x3 identity matrix (★☆☆) \n",
        "(**hint**: np.eye)"
      ]
    },
    {
      "cell_type": "code",
      "execution_count": null,
      "metadata": {
        "colab": {
          "base_uri": "https://localhost:8080/"
        },
        "id": "OXput_WdprmC",
        "outputId": "6db4aafc-38a9-4848-d671-41776e6e1148"
      },
      "outputs": [
        {
          "output_type": "stream",
          "name": "stdout",
          "text": [
            "[[1. 0. 0. 0.]\n",
            " [0. 1. 0. 0.]\n",
            " [0. 0. 1. 0.]\n",
            " [0. 0. 0. 1.]]\n"
          ]
        }
      ],
      "source": [
        "\n",
        "import numpy as np\n",
        "\n",
        "a = np.identity(4)\n",
        "print(a)\n"
      ]
    },
    {
      "cell_type": "markdown",
      "metadata": {
        "id": "oG3hP3V2prmC"
      },
      "source": [
        "#### 12. Create a 3x3x3 array with random values (★☆☆) \n",
        "(**hint**: np.random.random)"
      ]
    },
    {
      "cell_type": "code",
      "execution_count": null,
      "metadata": {
        "collapsed": true,
        "colab": {
          "base_uri": "https://localhost:8080/"
        },
        "id": "hCtw8x_IprmC",
        "outputId": "5eac7d1c-9898-4c1a-cf16-1df4eb0fb8b8"
      },
      "outputs": [
        {
          "output_type": "stream",
          "name": "stdout",
          "text": [
            "[[[0.11099907 0.282321   0.99891617]\n",
            "  [0.03455285 0.31792271 0.60989663]\n",
            "  [0.99544116 0.17176605 0.0636516 ]]\n",
            "\n",
            " [[0.38105957 0.30111428 0.96328801]\n",
            "  [0.16227665 0.51733088 0.8357692 ]\n",
            "  [0.20707808 0.20318602 0.82552832]]\n",
            "\n",
            " [[0.63078023 0.56116919 0.15329824]\n",
            "  [0.54713003 0.34657939 0.67220643]\n",
            "  [0.00144705 0.70272239 0.65283431]]]\n"
          ]
        }
      ],
      "source": [
        "import numpy as np\n",
        "x = np.random.random((3,3,3))\n",
        "print(x)\n"
      ]
    },
    {
      "cell_type": "markdown",
      "metadata": {
        "id": "WDalGU0BprmD"
      },
      "source": [
        "#### 13. Create a 10x10 array with random values and find the minimum and maximum values (★☆☆) \n",
        "(**hint**: min, max)"
      ]
    },
    {
      "cell_type": "code",
      "execution_count": null,
      "metadata": {
        "colab": {
          "base_uri": "https://localhost:8080/"
        },
        "id": "dYmz-cwjprmD",
        "outputId": "e092a961-37be-4668-9bc1-d1165344dcf8"
      },
      "outputs": [
        {
          "output_type": "stream",
          "name": "stdout",
          "text": [
            "[[[0.69981008 0.3293765  0.39988696]\n",
            "  [0.4650301  0.35500388 0.68990607]\n",
            "  [0.63857468 0.93361809 0.88141187]]\n",
            "\n",
            " [[0.69486032 0.23928427 0.64618913]\n",
            "  [0.11834931 0.33583306 0.41184035]\n",
            "  [0.88413484 0.48354051 0.59830913]]\n",
            "\n",
            " [[0.69286519 0.89579652 0.6109788 ]\n",
            "  [0.62384863 0.98442462 0.71722383]\n",
            "  [0.03879052 0.04444634 0.79815896]]]\n",
            "0.03879052413189876 0.9844246197629518\n"
          ]
        }
      ],
      "source": [
        "import numpy as np\n",
        "x = np.random.random((3,3,3))\n",
        "print(x)\n",
        "print(x.min(),x.max())"
      ]
    },
    {
      "cell_type": "markdown",
      "metadata": {
        "id": "xdIkOBiFprmD"
      },
      "source": [
        "#### 14. Create a random vector of size 30 and find the mean value (★☆☆) \n",
        "(**hint**: mean)"
      ]
    },
    {
      "cell_type": "code",
      "execution_count": null,
      "metadata": {
        "colab": {
          "base_uri": "https://localhost:8080/"
        },
        "id": "gdCmAS6zprmD",
        "outputId": "7ff552d4-2f29-4bdb-ca67-f1d5a0a6a633"
      },
      "outputs": [
        {
          "output_type": "stream",
          "name": "stdout",
          "text": [
            "0.591392711562932\n"
          ]
        }
      ],
      "source": [
        "import numpy as np\n",
        "x = np.random.random((30))\n",
        "print(x.mean())\n"
      ]
    },
    {
      "cell_type": "markdown",
      "metadata": {
        "id": "ni0Zh6MDprmD"
      },
      "source": [
        "#### 15. Create a 2d array with 1 on the border and 0 inside (★☆☆) \n",
        "(**hint**: array\\[1:-1, 1:-1\\])"
      ]
    },
    {
      "cell_type": "code",
      "execution_count": null,
      "metadata": {
        "id": "3KGwjacAprmE",
        "colab": {
          "base_uri": "https://localhost:8080/"
        },
        "outputId": "b4cb900f-0b98-4521-8cf1-cb4a6e298fb7"
      },
      "outputs": [
        {
          "output_type": "stream",
          "name": "stdout",
          "text": [
            "[[1. 1. 1. 1.]\n",
            " [1. 0. 0. 1.]\n",
            " [1. 0. 0. 1.]\n",
            " [1. 1. 1. 1.]]\n"
          ]
        }
      ],
      "source": [
        "import numpy as np\n",
        "x = np.ones((4,4))\n",
        "x[1:-1,1:-1] = 0\n",
        "print(x)\n"
      ]
    },
    {
      "cell_type": "markdown",
      "metadata": {
        "id": "2s071R2rprmE"
      },
      "source": [
        "#### 16. How to add a border (filled with 0's) around an existing array? (★☆☆) \n",
        "(**hint**: np.pad)"
      ]
    },
    {
      "cell_type": "code",
      "execution_count": null,
      "metadata": {
        "id": "xeuSY6cxprmE",
        "colab": {
          "base_uri": "https://localhost:8080/"
        },
        "outputId": "06c41015-d8e8-48d6-fa02-e7de5245b6f6"
      },
      "outputs": [
        {
          "output_type": "stream",
          "name": "stdout",
          "text": [
            "[[0. 0. 0. 0. 0. 0.]\n",
            " [0. 1. 1. 1. 1. 0.]\n",
            " [0. 1. 1. 1. 1. 0.]\n",
            " [0. 1. 1. 1. 1. 0.]\n",
            " [0. 1. 1. 1. 1. 0.]\n",
            " [0. 0. 0. 0. 0. 0.]]\n"
          ]
        }
      ],
      "source": [
        "import numpy as np\n",
        "x = np.ones((4,4))\n",
        "x = np.pad(x, pad_width=1, mode='constant', constant_values=0)\n",
        "print(x)"
      ]
    },
    {
      "cell_type": "markdown",
      "metadata": {
        "id": "088xMrlcprmE"
      },
      "source": [
        "#### 17. What is the result of the following expression? (★☆☆) \n",
        "(**hint**: NaN = not a number, inf = infinity)"
      ]
    },
    {
      "cell_type": "markdown",
      "metadata": {
        "id": "qyQ_H4JUprmF"
      },
      "source": [
        "```python         ANS\n",
        "0 * np.nan = nan\n",
        "np.nan == np.nan  = False\n",
        "np.inf > np.nan   = False\n",
        "np.nan - np.nan   = nan\n",
        "0.3 == 3 * 0.1    = False\n",
        "```"
      ]
    },
    {
      "cell_type": "markdown",
      "metadata": {
        "id": "OUdv7VwCprmG"
      },
      "source": [
        "#### 18. Create a 5x5 matrix with values 1,2,3,4 just below the diagonal (★☆☆) \n",
        "(**hint**: np.diag)"
      ]
    },
    {
      "cell_type": "code",
      "execution_count": null,
      "metadata": {
        "id": "pWdB9PW7prmG",
        "colab": {
          "base_uri": "https://localhost:8080/"
        },
        "outputId": "b0583213-5d4b-4498-f32b-60688d42b32a"
      },
      "outputs": [
        {
          "output_type": "execute_result",
          "data": {
            "text/plain": [
              "array([[0, 0, 0, 0, 0],\n",
              "       [1, 0, 0, 0, 0],\n",
              "       [0, 2, 0, 0, 0],\n",
              "       [0, 0, 3, 0, 0],\n",
              "       [0, 0, 0, 4, 0]])"
            ]
          },
          "metadata": {},
          "execution_count": 34
        }
      ],
      "source": [
        "arr = np.diag((1,2,3,4))\n",
        "arr = np.pad(arr,pad_width = ((1,0),(0,1)),mode = 'constant')\n",
        "arr"
      ]
    },
    {
      "cell_type": "markdown",
      "metadata": {
        "id": "Va7eOZcmprmI"
      },
      "source": [
        "#### 19. Create a 8x8 matrix and fill it with a checkerboard pattern (★☆☆) \n",
        "(**hint**: array\\[::2\\])"
      ]
    },
    {
      "cell_type": "code",
      "execution_count": null,
      "metadata": {
        "id": "bOCJZFtyprmJ",
        "colab": {
          "base_uri": "https://localhost:8080/"
        },
        "outputId": "5fade979-1b8e-4d39-d105-2ecf25cc4f7a"
      },
      "outputs": [
        {
          "output_type": "execute_result",
          "data": {
            "text/plain": [
              "array([[0, 1, 0, 1, 0, 1, 0, 1],\n",
              "       [1, 0, 1, 0, 1, 0, 1, 0],\n",
              "       [0, 1, 0, 1, 0, 1, 0, 1],\n",
              "       [1, 0, 1, 0, 1, 0, 1, 0],\n",
              "       [0, 1, 0, 1, 0, 1, 0, 1],\n",
              "       [1, 0, 1, 0, 1, 0, 1, 0],\n",
              "       [0, 1, 0, 1, 0, 1, 0, 1],\n",
              "       [1, 0, 1, 0, 1, 0, 1, 0]])"
            ]
          },
          "metadata": {},
          "execution_count": 27
        }
      ],
      "source": [
        "import numpy as np\n",
        "x=np.zeros((8,8),int)\n",
        "x[1::2,::2] = 1\n",
        "x[::2,1::2] = 1\n",
        "\n",
        "x"
      ]
    },
    {
      "cell_type": "markdown",
      "metadata": {
        "id": "YCLBkKmVprmJ"
      },
      "source": [
        "#### 20. Consider a (6,7,8) shape array, what is the index (x,y,z) of the 100th element? \n",
        "(**hint**: np.unravel_index)"
      ]
    },
    {
      "cell_type": "code",
      "execution_count": null,
      "metadata": {
        "id": "NrQyLGHHprmJ",
        "colab": {
          "base_uri": "https://localhost:8080/"
        },
        "outputId": "8d6b9ce8-8aba-4594-dfa9-5cf55d037aab"
      },
      "outputs": [
        {
          "output_type": "stream",
          "name": "stdout",
          "text": [
            "(1, 5, 4)\n"
          ]
        }
      ],
      "source": [
        "print (np.unravel_index(100, (6,7,8)))"
      ]
    },
    {
      "cell_type": "markdown",
      "metadata": {
        "id": "wQ5b37HAprmK"
      },
      "source": [
        "#### 21. Create a checkerboard 8x8 matrix using the tile function (★☆☆) \n",
        "(**hint**: np.tile)"
      ]
    },
    {
      "cell_type": "code",
      "execution_count": null,
      "metadata": {
        "id": "G2zrp2X7prmK",
        "colab": {
          "base_uri": "https://localhost:8080/"
        },
        "outputId": "646e0e02-7f5b-43c9-8c2d-8d1ffa5305d9"
      },
      "outputs": [
        {
          "output_type": "stream",
          "name": "stdout",
          "text": [
            "[[0 1 0 1 0 1 0 1]\n",
            " [1 0 1 0 1 0 1 0]\n",
            " [0 1 0 1 0 1 0 1]\n",
            " [1 0 1 0 1 0 1 0]\n",
            " [0 1 0 1 0 1 0 1]\n",
            " [1 0 1 0 1 0 1 0]\n",
            " [0 1 0 1 0 1 0 1]\n",
            " [1 0 1 0 1 0 1 0]]\n"
          ]
        }
      ],
      "source": [
        "import numpy as geek\n",
        "x=np.zeros((2,2),int)\n",
        "x[1::2,::2] = 1\n",
        "x[::2,1::2] = 1\n",
        "a = 4\n",
        "b = 4\n",
        "repetitions = (a, b)\n",
        "print(geek.tile(x, repetitions))"
      ]
    },
    {
      "cell_type": "markdown",
      "metadata": {
        "id": "BBXjdNcaprmK"
      },
      "source": [
        "#### 22. Normalize a 5x5 random matrix (★☆☆) \n",
        "(**hint**: (x - min) / (max - min))"
      ]
    },
    {
      "cell_type": "code",
      "execution_count": null,
      "metadata": {
        "id": "WiCbCSN7prmK",
        "colab": {
          "base_uri": "https://localhost:8080/"
        },
        "outputId": "a092bbc7-ed0b-489b-d455-c33347db42db"
      },
      "outputs": [
        {
          "output_type": "stream",
          "name": "stdout",
          "text": [
            "[[0.64560263 0.92852583 0.5598289  0.79616233 0.16813137]\n",
            " [0.73412578 0.47302558 0.73925612 0.34314567 0.51900661]\n",
            " [0.07904061 0.01971546 0.67250412 0.0271027  0.12363129]\n",
            " [0.16149888 0.38341911 0.51483672 0.25171638 0.03329091]\n",
            " [0.86355244 0.         0.2078201  0.30526204 1.        ]]\n"
          ]
        }
      ],
      "source": [
        "import numpy as np\n",
        "x= np.random.random((5,5))\n",
        "xmax, xmin = x.max(), x.min()\n",
        "x = (x - xmin)/(xmax - xmin)\n",
        "print(x)\n"
      ]
    },
    {
      "cell_type": "markdown",
      "metadata": {
        "id": "atT3vK43prmK"
      },
      "source": [
        "#### 23. Create a custom dtype that describes a color as four unsigned bytes (RGBA) (★☆☆) \n",
        "(**hint**: np.dtype)"
      ]
    },
    {
      "cell_type": "code",
      "execution_count": null,
      "metadata": {
        "collapsed": true,
        "id": "HNoZUz1aprmL",
        "colab": {
          "base_uri": "https://localhost:8080/"
        },
        "outputId": "c91d376f-92cb-49ad-ab0f-8a9d995dcf87"
      },
      "outputs": [
        {
          "output_type": "stream",
          "name": "stdout",
          "text": [
            "1\n"
          ]
        },
        {
          "output_type": "execute_result",
          "data": {
            "text/plain": [
              "numpy.ndarray"
            ]
          },
          "metadata": {},
          "execution_count": 35
        }
      ],
      "source": [
        "RGBA = np.dtype([('red',np.uint8),('green',np.uint8),('blue',np.uint8),('alpha',np.uint8)])\n",
        "color = np.array((1,2,4,3),dtype = RGBA)\n",
        "print(color['red'])\n",
        "type(color)"
      ]
    },
    {
      "cell_type": "markdown",
      "metadata": {
        "id": "kvgFl5HHprmL"
      },
      "source": [
        "#### 24. Multiply a 5x3 matrix by a 3x2 matrix (real matrix product) (★☆☆) \n",
        "(**hint**: np.dot | @)"
      ]
    },
    {
      "cell_type": "code",
      "execution_count": null,
      "metadata": {
        "id": "qlpDm3G2prmL",
        "colab": {
          "base_uri": "https://localhost:8080/"
        },
        "outputId": "59f3ea71-2cf6-44fa-a41c-42c1307288e9"
      },
      "outputs": [
        {
          "output_type": "stream",
          "name": "stdout",
          "text": [
            "[[1.14596895 1.12002682]\n",
            " [1.59081598 1.5619069 ]\n",
            " [1.02088402 1.21090178]\n",
            " [1.2270773  1.201137  ]\n",
            " [1.03573959 0.97646325]]\n"
          ]
        },
        {
          "output_type": "execute_result",
          "data": {
            "text/plain": [
              "array([[1.14596895, 1.12002682],\n",
              "       [1.59081598, 1.5619069 ],\n",
              "       [1.02088402, 1.21090178],\n",
              "       [1.2270773 , 1.201137  ],\n",
              "       [1.03573959, 0.97646325]])"
            ]
          },
          "metadata": {},
          "execution_count": 2
        }
      ],
      "source": [
        "import numpy as np \n",
        "arr1 = np.random.random((5,3))\n",
        "arr2 = np.random.random((3,2))\n",
        "print(arr1 @ arr2)\n",
        "np.dot(arr1,arr2)"
      ]
    },
    {
      "cell_type": "markdown",
      "metadata": {
        "id": "3CN0Sy2cprmL"
      },
      "source": [
        "#### 25. Given a 1D array, negate all elements which are between 3 and 8, in place. (★☆☆) \n",
        "(**hint**: >, <=)"
      ]
    },
    {
      "cell_type": "code",
      "execution_count": null,
      "metadata": {
        "id": "bzoLTUFRprmL",
        "colab": {
          "base_uri": "https://localhost:8080/"
        },
        "outputId": "a4a5634b-9bbd-4769-89fa-7b0c5c1d17be"
      },
      "outputs": [
        {
          "output_type": "stream",
          "name": "stdout",
          "text": [
            "[ 0  1  2 -3 -4 -5 -6 -7 -8  9 10 11 12 13 14 15]\n"
          ]
        }
      ],
      "source": [
        "import numpy as np\n",
        "arr = np.arange(16)\n",
        "arr[(arr>=3) & (arr<=8)]*=(-1)\n",
        "print(arr)"
      ]
    },
    {
      "cell_type": "markdown",
      "metadata": {
        "id": "LbBJ68bZprmL"
      },
      "source": [
        "#### 26. What is the output of the following script? (★☆☆) \n",
        "(**hint**: np.sum)"
      ]
    },
    {
      "cell_type": "markdown",
      "metadata": {
        "id": "z63rdJ2YprmM"
      },
      "source": [
        "```python\n",
        "# Author: Jake VanderPlas\n",
        "\n",
        "print(sum(range(5),-1))\n",
        "from numpy import *\n",
        "print(sum(range(5),-1))\n",
        "```"
      ]
    },
    {
      "cell_type": "code",
      "execution_count": null,
      "metadata": {
        "id": "aoWyL2V8prmM",
        "colab": {
          "base_uri": "https://localhost:8080/"
        },
        "outputId": "a180c26d-d96c-4804-e837-8d56b9c97142"
      },
      "outputs": [
        {
          "output_type": "stream",
          "name": "stdout",
          "text": [
            "9\n",
            "10\n"
          ]
        }
      ],
      "source": [
        "print(sum(range(5),-1))\n",
        "from numpy import *\n",
        "print(sum(range(5),-1))"
      ]
    },
    {
      "cell_type": "markdown",
      "metadata": {
        "id": "BwnM8kTNprmM"
      },
      "source": [
        "#### 27. Consider an integer vector Z, which of these expressions are legal? (★☆☆)"
      ]
    },
    {
      "cell_type": "markdown",
      "metadata": {
        "id": "42Xz6WaWprmM"
      },
      "source": [
        " ```python\n",
        "Z**Z   Valid\n",
        "2 << Z >> 2  Valid\n",
        "Z <- Z  Valid\n",
        "1j*Z   Valid\n",
        "Z/1/1  Valid\n",
        "Z<Z>Z  invalid\n",
        "```"
      ]
    },
    {
      "cell_type": "code",
      "execution_count": null,
      "metadata": {
        "id": "7gF3P1KlprmM",
        "colab": {
          "base_uri": "https://localhost:8080/"
        },
        "outputId": "44fddfd5-6644-486c-da4c-2f2d47f813f8"
      },
      "outputs": [
        {
          "output_type": "execute_result",
          "data": {
            "text/plain": [
              "array([False, False, False, False, False])"
            ]
          },
          "metadata": {},
          "execution_count": 17
        }
      ],
      "source": [
        "Z = arange(5)\n",
        "\"\"\"Z**Z   Valid\n",
        "2 << Z >> 2  Valid\n",
        "Z <- Z  Valid\n",
        "1j*Z   Valid\n",
        "Z/1/1  Valid\n",
        "Z<Z>Z  invalid\"\"\"\n"
      ]
    },
    {
      "cell_type": "markdown",
      "metadata": {
        "id": "3kcgqOdqprmN"
      },
      "source": [
        "#### 28. What are the result of the following expressions?"
      ]
    },
    {
      "cell_type": "markdown",
      "metadata": {
        "id": "_z_dl9dNprmN"
      },
      "source": [
        "```python\n",
        "np.array(0) / np.array(0)\n",
        "np.array(0) // np.array(0)\n",
        "np.array([np.nan]).astype(int).astype(float)\n",
        "```"
      ]
    },
    {
      "cell_type": "code",
      "execution_count": null,
      "metadata": {
        "id": "Q_dd7VUIprmN",
        "colab": {
          "base_uri": "https://localhost:8080/"
        },
        "outputId": "52e8b0eb-b582-4fdf-a114-c2a40185bd25"
      },
      "outputs": [
        {
          "output_type": "stream",
          "name": "stderr",
          "text": [
            "/usr/local/lib/python3.7/dist-packages/ipykernel_launcher.py:1: RuntimeWarning: invalid value encountered in true_divide\n",
            "  \"\"\"Entry point for launching an IPython kernel.\n"
          ]
        },
        {
          "output_type": "execute_result",
          "data": {
            "text/plain": [
              "nan"
            ]
          },
          "metadata": {},
          "execution_count": 22
        }
      ],
      "source": [
        "np.array(0) / np.array(0)\n"
      ]
    },
    {
      "cell_type": "code",
      "source": [
        "np.array(0) // np.array(0)\n"
      ],
      "metadata": {
        "colab": {
          "base_uri": "https://localhost:8080/"
        },
        "id": "FLSsGTMQ3Tfk",
        "outputId": "9873feef-6d27-4820-8b60-e0f9959c6327"
      },
      "execution_count": null,
      "outputs": [
        {
          "output_type": "stream",
          "name": "stderr",
          "text": [
            "/usr/local/lib/python3.7/dist-packages/ipykernel_launcher.py:1: RuntimeWarning: divide by zero encountered in floor_divide\n",
            "  \"\"\"Entry point for launching an IPython kernel.\n"
          ]
        },
        {
          "output_type": "execute_result",
          "data": {
            "text/plain": [
              "0"
            ]
          },
          "metadata": {},
          "execution_count": 23
        }
      ]
    },
    {
      "cell_type": "code",
      "source": [
        "np.array([np.nan]).astype(int).astype(float)"
      ],
      "metadata": {
        "colab": {
          "base_uri": "https://localhost:8080/"
        },
        "id": "nip19R2p3YGY",
        "outputId": "4ef02c74-a958-49ad-98f3-b6d17db4355f"
      },
      "execution_count": null,
      "outputs": [
        {
          "output_type": "execute_result",
          "data": {
            "text/plain": [
              "array([-9.22337204e+18])"
            ]
          },
          "metadata": {},
          "execution_count": 24
        }
      ]
    },
    {
      "cell_type": "markdown",
      "metadata": {
        "id": "hlHROi1LprmN"
      },
      "source": [
        "#### 29. How to round away from zero a float array ? (★☆☆) \n",
        "(**hint**: np.uniform, np.copysign, np.ceil, np.abs)"
      ]
    },
    {
      "cell_type": "code",
      "execution_count": null,
      "metadata": {
        "id": "f8U5UXFvprmN",
        "colab": {
          "base_uri": "https://localhost:8080/"
        },
        "outputId": "46a085a5-4caa-433d-ecb7-94ba19d4797c"
      },
      "outputs": [
        {
          "output_type": "stream",
          "name": "stdout",
          "text": [
            "[[0.34622264 0.70449451 0.02490166 0.90725229 0.72150112]\n",
            " [0.86634706 0.61793782 0.98090702 0.44787025 0.49594645]\n",
            " [0.8112268  0.35925596 0.32118471 0.94483985 0.33367124]\n",
            " [0.01923312 0.15998013 0.01387653 0.04492882 0.64905415]\n",
            " [0.11597335 0.44549648 0.99299693 0.58746123 0.68824232]]\n",
            "[[0.35 0.7  0.02 0.91 0.72]\n",
            " [0.87 0.62 0.98 0.45 0.5 ]\n",
            " [0.81 0.36 0.32 0.94 0.33]\n",
            " [0.02 0.16 0.01 0.04 0.65]\n",
            " [0.12 0.45 0.99 0.59 0.69]]\n"
          ]
        }
      ],
      "source": [
        "arr = np.random.random((5,5))\n",
        "print(arr)\n",
        "arr = np.round(arr,2)\n",
        "print(arr) "
      ]
    },
    {
      "cell_type": "markdown",
      "metadata": {
        "id": "-1OMm8jKprmN"
      },
      "source": [
        "#### 30. How to find common values between two arrays? (★☆☆) \n",
        "(**hint**: np.intersect1d)"
      ]
    },
    {
      "cell_type": "code",
      "execution_count": null,
      "metadata": {
        "id": "9VBx9zZUprmO",
        "colab": {
          "base_uri": "https://localhost:8080/"
        },
        "outputId": "4d61fa19-5d2b-4e63-8df4-d10ba54ed5e4"
      },
      "outputs": [
        {
          "output_type": "stream",
          "name": "stdout",
          "text": [
            "[1 2 4]\n"
          ]
        }
      ],
      "source": [
        "arr1 = np.array([1, 1, 2, 3, 4])\n",
        "arr2 = np.array([2, 1, 4, 6])\n",
        "    \n",
        "arr3 = np.intersect1d(arr1, arr2)\n",
        "    \n",
        "print (arr3)"
      ]
    },
    {
      "cell_type": "markdown",
      "metadata": {
        "id": "COhGEUQqprmO"
      },
      "source": [
        "#### 31. How to ignore all numpy warnings (not recommended)? (★☆☆) \n",
        "(**hint**: np.seterr, np.errstate)"
      ]
    },
    {
      "cell_type": "code",
      "execution_count": null,
      "metadata": {
        "id": "JOJv68HNprmO"
      },
      "outputs": [],
      "source": [
        "defaults = np.seterr(all=\"ignore\")\n",
        "Z = np.ones(1) / 0\n",
        "\n",
        "_ = np.seterr(**defaults)\n",
        "\n",
        "Z = np.ones(1) / 0"
      ]
    },
    {
      "cell_type": "markdown",
      "metadata": {
        "id": "VvKBJQtAprmO"
      },
      "source": [
        "#### 32. Is the following expressions true? (★☆☆) \n",
        "(**hint**: imaginary number)"
      ]
    },
    {
      "cell_type": "markdown",
      "metadata": {
        "id": "4d1VQ1sbprmO"
      },
      "source": [
        "```python\n",
        "np.sqrt(-1) == np.emath.sqrt(-1)\n",
        "```"
      ]
    },
    {
      "cell_type": "code",
      "execution_count": null,
      "metadata": {
        "id": "P0fRHvtsprmP",
        "colab": {
          "base_uri": "https://localhost:8080/"
        },
        "outputId": "33314472-f754-409a-d7b1-09de6a313c09"
      },
      "outputs": [
        {
          "output_type": "execute_result",
          "data": {
            "text/plain": [
              "False"
            ]
          },
          "metadata": {},
          "execution_count": 33
        }
      ],
      "source": [
        "np.sqrt(-1) == np.emath.sqrt(-1)"
      ]
    },
    {
      "cell_type": "markdown",
      "metadata": {
        "id": "94j-tTiPprmP"
      },
      "source": [
        "#### 33. How to get the dates of yesterday, today and tomorrow? (★☆☆) \n",
        "(**hint**: np.datetime64, np.timedelta64)"
      ]
    },
    {
      "cell_type": "code",
      "execution_count": null,
      "metadata": {
        "collapsed": true,
        "id": "YpNYkvITprmP",
        "colab": {
          "base_uri": "https://localhost:8080/"
        },
        "outputId": "354cbc76-c100-435a-8295-d546f8e372a6"
      },
      "outputs": [
        {
          "output_type": "stream",
          "name": "stdout",
          "text": [
            "2022-09-16\n",
            "2022-09-17\n",
            "2022-09-18\n"
          ]
        }
      ],
      "source": [
        "yesterday = np.datetime64('today', 'D') - np.timedelta64(1, 'D')\n",
        "today     = np.datetime64('today', 'D')\n",
        "tomorrow  = np.datetime64('today', 'D') + np.timedelta64(1, 'D')\n",
        "print(yesterday)\n",
        "print(today)\n",
        "print(tomorrow)"
      ]
    },
    {
      "cell_type": "markdown",
      "metadata": {
        "id": "ZpST8iXSprmP"
      },
      "source": [
        "#### 34. How to get all the dates corresponding to the month of July 2016? (★★☆) \n",
        "(**hint**: np.arange(dtype=datetime64\\['D'\\]))"
      ]
    },
    {
      "cell_type": "code",
      "execution_count": null,
      "metadata": {
        "id": "UN4Yz_szprmP",
        "colab": {
          "base_uri": "https://localhost:8080/"
        },
        "outputId": "2507884d-cec0-4cd6-eba5-72e174837a3a"
      },
      "outputs": [
        {
          "output_type": "stream",
          "name": "stdout",
          "text": [
            "['2016-07-01' '2016-07-02' '2016-07-03' '2016-07-04' '2016-07-05'\n",
            " '2016-07-06' '2016-07-07' '2016-07-08' '2016-07-09' '2016-07-10'\n",
            " '2016-07-11' '2016-07-12' '2016-07-13' '2016-07-14' '2016-07-15'\n",
            " '2016-07-16' '2016-07-17' '2016-07-18' '2016-07-19' '2016-07-20'\n",
            " '2016-07-21' '2016-07-22' '2016-07-23' '2016-07-24' '2016-07-25'\n",
            " '2016-07-26' '2016-07-27' '2016-07-28' '2016-07-29' '2016-07-30'\n",
            " '2016-07-31']\n"
          ]
        }
      ],
      "source": [
        "Z = np.arange('2016-07', '2016-08', dtype='datetime64[D]')\n",
        "print(Z)"
      ]
    },
    {
      "cell_type": "markdown",
      "metadata": {
        "id": "rCcfuIqqprmP"
      },
      "source": [
        "#### 35. How to compute ((A+B)\\*(-A/2)) in place (without copy)? (★★☆) \n",
        "(**hint**: np.add(out=), np.negative(out=), np.multiply(out=), np.divide(out=))"
      ]
    },
    {
      "cell_type": "code",
      "execution_count": null,
      "metadata": {
        "id": "LbP6CoMLprmQ",
        "colab": {
          "base_uri": "https://localhost:8080/"
        },
        "outputId": "9691bd68-0256-4181-e7fc-f491903f3c1d"
      },
      "outputs": [
        {
          "output_type": "execute_result",
          "data": {
            "text/plain": [
              "-4.5"
            ]
          },
          "metadata": {},
          "execution_count": 37
        }
      ],
      "source": [
        "import numpy as np\n",
        "A = np.ones(3)*1\n",
        "B = np.ones(3)*2\n",
        "C = np.ones(3)*3\n",
        "np.add(A,B,out=B)\n",
        "np.divide(A,2,out=A)\n",
        "np.negative(A,out=A)\n",
        "np.dot(A,B)"
      ]
    },
    {
      "cell_type": "markdown",
      "metadata": {
        "id": "Px369XYzprmQ"
      },
      "source": [
        "#### 36. Extract the integer part of a random array using 5 different methods (★★☆) \n",
        "(**hint**: %, np.floor, np.ceil, astype, np.trunc)"
      ]
    },
    {
      "cell_type": "code",
      "execution_count": null,
      "metadata": {
        "id": "2JmB7JzmprmQ",
        "colab": {
          "base_uri": "https://localhost:8080/"
        },
        "outputId": "726e20c0-e19f-490e-e200-5281c10cc14c"
      },
      "outputs": [
        {
          "output_type": "stream",
          "name": "stdout",
          "text": [
            "[6. 4. 7. 5. 3. 7. 9. 9. 7. 9.]\n",
            "[6. 4. 7. 5. 3. 7. 9. 9. 7. 9.]\n",
            "[6. 4. 7. 5. 3. 7. 9. 9. 7. 9.]\n",
            "[6 4 7 5 3 7 9 9 7 9]\n"
          ]
        }
      ],
      "source": [
        "Z = np.random.uniform(0,10,10)\n",
        "\n",
        "print (Z - Z%1)\n",
        "print (np.floor(Z))\n",
        "print (np.ceil(Z)-1)\n",
        "print (Z.astype(int))"
      ]
    },
    {
      "cell_type": "markdown",
      "metadata": {
        "id": "ajbqL0B4prmQ"
      },
      "source": [
        "#### 37. Create a 5x5 matrix with row values ranging from 0 to 4 (★★☆) \n",
        "(**hint**: np.arange)"
      ]
    },
    {
      "cell_type": "code",
      "execution_count": null,
      "metadata": {
        "id": "eUSuRpdHprmQ",
        "colab": {
          "base_uri": "https://localhost:8080/"
        },
        "outputId": "85717ac0-16fe-474a-82ba-8cd8fbb4bfdd"
      },
      "outputs": [
        {
          "output_type": "stream",
          "name": "stdout",
          "text": [
            "[[0. 1. 2. 3. 4.]\n",
            " [0. 1. 2. 3. 4.]\n",
            " [0. 1. 2. 3. 4.]\n",
            " [0. 1. 2. 3. 4.]\n",
            " [0. 1. 2. 3. 4.]]\n"
          ]
        }
      ],
      "source": [
        "Z = np.zeros((5,5))\n",
        "Z += np.arange(5)\n",
        "print(Z)"
      ]
    },
    {
      "cell_type": "markdown",
      "metadata": {
        "id": "uod6kEyBprmS"
      },
      "source": [
        "#### 38. Consider a generator function that generates 10 integers and use it to build an array (★☆☆) \n",
        "(**hint**: np.fromiter)"
      ]
    },
    {
      "cell_type": "code",
      "execution_count": null,
      "metadata": {
        "id": "lx4qyLsLprmS",
        "colab": {
          "base_uri": "https://localhost:8080/"
        },
        "outputId": "f3f43891-4198-4c8a-a6cf-9d684ed55812"
      },
      "outputs": [
        {
          "output_type": "stream",
          "name": "stdout",
          "text": [
            "[0. 1. 2. 3. 4. 5. 6. 7. 8. 9.]\n"
          ]
        }
      ],
      "source": [
        "def generate():\n",
        "    for x in range(10):\n",
        "        yield x\n",
        "Z = np.fromiter(generate(),dtype=float,count=-1)\n",
        "print(Z)"
      ]
    },
    {
      "cell_type": "markdown",
      "metadata": {
        "id": "nbMSS5vWprmS"
      },
      "source": [
        "#### 39. Create a vector of size 10 with values ranging from 0 to 1, both excluded (★★☆) \n",
        "(**hint**: np.linspace)"
      ]
    },
    {
      "cell_type": "code",
      "execution_count": null,
      "metadata": {
        "id": "1OwTdK4mprmT",
        "colab": {
          "base_uri": "https://localhost:8080/"
        },
        "outputId": "45fd7b1d-b878-4eb2-9ad7-81b6dadec477"
      },
      "outputs": [
        {
          "output_type": "stream",
          "name": "stdout",
          "text": [
            "[0.09090909 0.18181818 0.27272727 0.36363636 0.45454545 0.54545455\n",
            " 0.63636364 0.72727273 0.81818182 0.90909091]\n"
          ]
        }
      ],
      "source": [
        "Z = np.linspace(0,1,11,endpoint=False)[1:]\n",
        "print(Z)"
      ]
    },
    {
      "cell_type": "markdown",
      "metadata": {
        "id": "WChOJqHRprmT"
      },
      "source": [
        "#### 40. Create a random vector of size 10 and sort it (★★☆) \n",
        "(**hint**: sort)"
      ]
    },
    {
      "cell_type": "code",
      "execution_count": null,
      "metadata": {
        "id": "6VLv_wQ-prmT",
        "colab": {
          "base_uri": "https://localhost:8080/"
        },
        "outputId": "2e5112e0-3763-4908-a36c-93fc7afe1a08"
      },
      "outputs": [
        {
          "output_type": "stream",
          "name": "stdout",
          "text": [
            "[0.01194083 0.15707047 0.2389792  0.24257865 0.35196772 0.62600087\n",
            " 0.70499487 0.79382821 0.91498444 0.9296727 ]\n"
          ]
        }
      ],
      "source": [
        "Z = np.random.random(10)\n",
        "Z.sort()\n",
        "print(Z)"
      ]
    },
    {
      "cell_type": "markdown",
      "metadata": {
        "id": "GiFhFKzEprmT"
      },
      "source": [
        "#### 41. How to sum a small array faster than np.sum? (★★☆) \n",
        "(**hint**: np.add.reduce)"
      ]
    },
    {
      "cell_type": "code",
      "execution_count": null,
      "metadata": {
        "id": "zLC5zYPQprmT",
        "colab": {
          "base_uri": "https://localhost:8080/"
        },
        "outputId": "25757435-4153-4763-896c-1fb6e83e32dc"
      },
      "outputs": [
        {
          "output_type": "execute_result",
          "data": {
            "text/plain": [
              "45"
            ]
          },
          "metadata": {},
          "execution_count": 43
        }
      ],
      "source": [
        "import numpy as np\n",
        "import functools as ft\n",
        "Z = np.arange(10)\n",
        "ft.reduce(np.add,Z,0)"
      ]
    },
    {
      "cell_type": "markdown",
      "metadata": {
        "id": "7tRt4Xv9prmU"
      },
      "source": [
        "#### 42. Consider two random array A and B, check if they are equal (★★☆) \n",
        "(**hint**: np.allclose, np.array\\_equal)"
      ]
    },
    {
      "cell_type": "code",
      "execution_count": null,
      "metadata": {
        "id": "xbClZLPKprmU",
        "colab": {
          "base_uri": "https://localhost:8080/"
        },
        "outputId": "5a8158e5-d415-4915-fd86-3455fdf2d329"
      },
      "outputs": [
        {
          "output_type": "stream",
          "name": "stdout",
          "text": [
            "[0 2 1 0 3]\n",
            "[2 2 0 1 3]\n",
            "False\n",
            "False\n"
          ]
        }
      ],
      "source": [
        "A = np.random.randint(0,4,5)\n",
        "B = np.random.randint(0,4,5)\n",
        "print(A)\n",
        "print(B)\n",
        "equal = np.allclose(A,B)\n",
        "print(equal)\n",
        "equal = np.array_equal(A,B)\n",
        "print(equal)"
      ]
    },
    {
      "cell_type": "markdown",
      "metadata": {
        "id": "tD1XuS2SprmU"
      },
      "source": [
        "#### 43. Make an array immutable (read-only) (★★☆) \n",
        "(**hint**: flags.writeable)"
      ]
    },
    {
      "cell_type": "code",
      "execution_count": null,
      "metadata": {
        "id": "aDkArzx8prmU",
        "colab": {
          "base_uri": "https://localhost:8080/",
          "height": 200
        },
        "outputId": "18c50226-54f5-4b80-c186-1f706c89b7c3"
      },
      "outputs": [
        {
          "output_type": "error",
          "ename": "ValueError",
          "evalue": "ignored",
          "traceback": [
            "\u001b[0;31m---------------------------------------------------------------------------\u001b[0m",
            "\u001b[0;31mValueError\u001b[0m                                Traceback (most recent call last)",
            "\u001b[0;32m<ipython-input-49-dcc5e7f145b5>\u001b[0m in \u001b[0;36m<module>\u001b[0;34m\u001b[0m\n\u001b[1;32m      1\u001b[0m \u001b[0mZ\u001b[0m \u001b[0;34m=\u001b[0m \u001b[0mnp\u001b[0m\u001b[0;34m.\u001b[0m\u001b[0mzeros\u001b[0m\u001b[0;34m(\u001b[0m\u001b[0;36m10\u001b[0m\u001b[0;34m)\u001b[0m\u001b[0;34m\u001b[0m\u001b[0;34m\u001b[0m\u001b[0m\n\u001b[1;32m      2\u001b[0m \u001b[0mZ\u001b[0m\u001b[0;34m.\u001b[0m\u001b[0mflags\u001b[0m\u001b[0;34m.\u001b[0m\u001b[0mwriteable\u001b[0m \u001b[0;34m=\u001b[0m \u001b[0;32mFalse\u001b[0m\u001b[0;34m\u001b[0m\u001b[0;34m\u001b[0m\u001b[0m\n\u001b[0;32m----> 3\u001b[0;31m \u001b[0mZ\u001b[0m\u001b[0;34m[\u001b[0m\u001b[0;36m0\u001b[0m\u001b[0;34m]\u001b[0m \u001b[0;34m=\u001b[0m \u001b[0;36m1\u001b[0m\u001b[0;34m\u001b[0m\u001b[0;34m\u001b[0m\u001b[0m\n\u001b[0m",
            "\u001b[0;31mValueError\u001b[0m: assignment destination is read-only"
          ]
        }
      ],
      "source": [
        "Z = np.zeros(10)\n",
        "Z.flags.writeable = False\n",
        "Z[0] = 1"
      ]
    },
    {
      "cell_type": "markdown",
      "metadata": {
        "id": "1-9yVb19prmU"
      },
      "source": [
        "#### 44. Consider a random 10x2 matrix representing cartesian coordinates, convert them to polar coordinates (★★☆) \n",
        "(**hint**: np.sqrt, np.arctan2)"
      ]
    },
    {
      "cell_type": "code",
      "execution_count": null,
      "metadata": {
        "id": "s_TMxTEnprmU",
        "colab": {
          "base_uri": "https://localhost:8080/"
        },
        "outputId": "41422d69-e759-4d6d-d131-55552a216233"
      },
      "outputs": [
        {
          "output_type": "stream",
          "name": "stdout",
          "text": [
            "[[8.60232527 0.95054684]\n",
            " [8.         1.57079633]\n",
            " [8.06225775 1.44644133]\n",
            " [8.         1.57079633]\n",
            " [7.61577311 1.16590454]\n",
            " [8.94427191 1.10714872]\n",
            " [7.         0.        ]\n",
            " [7.81024968 0.87605805]\n",
            " [8.60232527 0.62024949]\n",
            " [8.54400375 1.21202566]]\n"
          ]
        }
      ],
      "source": [
        "import numpy as np\n",
        "z= np.random.randint(0,9,(10,2))\n",
        "x,y = z[:,0], z[:,1]\n",
        "r = np.sqrt(x**2+y**2)\n",
        "t = np.arctan2(y,x)\n",
        "poles = np.c_[r,t]\n",
        "print(poles)"
      ]
    },
    {
      "cell_type": "markdown",
      "metadata": {
        "id": "xjyCySKeprmU"
      },
      "source": [
        "#### 45. Create random vector of size 10 and replace the maximum value by 0 (★★☆) \n",
        "(**hint**: argmax)"
      ]
    },
    {
      "cell_type": "code",
      "execution_count": null,
      "metadata": {
        "id": "0ECfbXq-prmV",
        "colab": {
          "base_uri": "https://localhost:8080/"
        },
        "outputId": "bb5e2555-257d-48a4-ea9e-cb50c2c6044a"
      },
      "outputs": [
        {
          "output_type": "stream",
          "name": "stdout",
          "text": [
            "[0.11224372 0.08568767 0.57990881 0.61422443 0.50490676 0.40761034\n",
            " 0.54195841 0.97169681 0.74332693 0.88248526 0.71980448 0.88638376\n",
            " 0.63607254 0.06054093 0.54078136 0.36034168 0.31783065 0.90991622\n",
            " 0.924682   0.14434923]\n",
            "[0.11224372 0.08568767 0.57990881 0.61422443 0.50490676 0.40761034\n",
            " 0.54195841 0.         0.74332693 0.88248526 0.71980448 0.88638376\n",
            " 0.63607254 0.06054093 0.54078136 0.36034168 0.31783065 0.90991622\n",
            " 0.924682   0.14434923]\n"
          ]
        }
      ],
      "source": [
        "arr = np.random.random(20)\n",
        "print(arr)\n",
        "arr[arr.argmax()] = 0\n",
        "print(arr)"
      ]
    },
    {
      "cell_type": "markdown",
      "metadata": {
        "id": "nOCcxpzvprmV"
      },
      "source": [
        "#### 46. Create a structured array with `x` and `y` coordinates covering the \\[0,1\\]x\\[0,1\\] area (★★☆) \n",
        "(**hint**: np.meshgrid)"
      ]
    },
    {
      "cell_type": "code",
      "execution_count": null,
      "metadata": {
        "id": "7hMGDr7nprmV"
      },
      "outputs": [],
      "source": []
    },
    {
      "cell_type": "markdown",
      "metadata": {
        "id": "M9-mjZYxprmV"
      },
      "source": [
        "####  47. Given two arrays, X and Y, construct the Cauchy matrix C (Cij =1/(xi - yj)) \n",
        "(**hint**: np.subtract.outer)"
      ]
    },
    {
      "cell_type": "code",
      "execution_count": null,
      "metadata": {
        "id": "EHuST46DprmV",
        "colab": {
          "base_uri": "https://localhost:8080/"
        },
        "outputId": "09413d01-f8ec-4a94-a045-baf79b3254e6"
      },
      "outputs": [
        {
          "output_type": "execute_result",
          "data": {
            "text/plain": [
              "array([[0.2       , 0.09090909, 0.33333333, 1.        , 0.16666667,\n",
              "        0.09090909, 0.14285714, 0.125     , 0.25      , 0.2       ],\n",
              "       [0.06666667, 0.04761905, 0.07692308, 0.09090909, 0.0625    ,\n",
              "        0.04761905, 0.05882353, 0.05555556, 0.07142857, 0.06666667],\n",
              "       [0.14285714, 0.07692308, 0.2       , 0.33333333, 0.125     ,\n",
              "        0.07692308, 0.11111111, 0.1       , 0.16666667, 0.14285714],\n",
              "       [0.14285714, 0.07692308, 0.2       , 0.33333333, 0.125     ,\n",
              "        0.07692308, 0.11111111, 0.1       , 0.16666667, 0.14285714],\n",
              "       [0.2       , 0.09090909, 0.33333333, 1.        , 0.16666667,\n",
              "        0.09090909, 0.14285714, 0.125     , 0.25      , 0.2       ],\n",
              "       [0.14285714, 0.07692308, 0.2       , 0.33333333, 0.125     ,\n",
              "        0.07692308, 0.11111111, 0.1       , 0.16666667, 0.14285714],\n",
              "       [0.08333333, 0.05555556, 0.1       , 0.125     , 0.07692308,\n",
              "        0.05555556, 0.07142857, 0.06666667, 0.09090909, 0.08333333],\n",
              "       [0.09090909, 0.05882353, 0.11111111, 0.14285714, 0.08333333,\n",
              "        0.05882353, 0.07692308, 0.07142857, 0.1       , 0.09090909],\n",
              "       [0.06666667, 0.04761905, 0.07692308, 0.09090909, 0.0625    ,\n",
              "        0.04761905, 0.05882353, 0.05555556, 0.07142857, 0.06666667],\n",
              "       [0.14285714, 0.07692308, 0.2       , 0.33333333, 0.125     ,\n",
              "        0.07692308, 0.11111111, 0.1       , 0.16666667, 0.14285714]])"
            ]
          },
          "metadata": {},
          "execution_count": 3
        }
      ],
      "source": [
        "import numpy as np\n",
        "Y = np.random.randint(0,11,10)\n",
        "X = np.random.randint(11,22,10)\n",
        "Y = np.tile(Y,(10,1))\n",
        "X  = np.tile(X,(10,1)).T\n",
        "\n",
        "C = 1/(X - Y)\n",
        "C"
      ]
    },
    {
      "cell_type": "markdown",
      "metadata": {
        "id": "PodzZr3RprmV"
      },
      "source": [
        "#### 48. Print the minimum and maximum representable value for each numpy scalar type (★★☆) \n",
        "(**hint**: np.iinfo, np.finfo, eps)"
      ]
    },
    {
      "cell_type": "code",
      "execution_count": null,
      "metadata": {
        "id": "Sj1DhHi7prmW",
        "colab": {
          "base_uri": "https://localhost:8080/"
        },
        "outputId": "89f162c7-4a57-473c-b10e-7cf2cb717a73"
      },
      "outputs": [
        {
          "output_type": "stream",
          "name": "stdout",
          "text": [
            "-128\n",
            "127\n",
            "-2147483648\n",
            "2147483647\n",
            "-9223372036854775808\n",
            "9223372036854775807\n",
            "-3.4028235e+38\n",
            "3.4028235e+38\n",
            "1.1920929e-07\n",
            "-1.7976931348623157e+308\n",
            "1.7976931348623157e+308\n",
            "2.220446049250313e-16\n"
          ]
        }
      ],
      "source": [
        "for dtype in [np.int8, np.int32, np.int64]:\n",
        "    print(np.iinfo(dtype).min)\n",
        "    print(np.iinfo(dtype).max)\n",
        "for dtype in [np.float32, np.float64]:\n",
        "    print(np.finfo(dtype).min)\n",
        "    print(np.finfo(dtype).max)\n",
        "    print(np.finfo(dtype).eps)"
      ]
    },
    {
      "cell_type": "markdown",
      "metadata": {
        "id": "wax5SUY4prmW"
      },
      "source": [
        "#### 49. How to print all the values of an array? (★★☆) \n",
        "(**hint**: np.set\\_printoptions)"
      ]
    },
    {
      "cell_type": "code",
      "execution_count": null,
      "metadata": {
        "id": "TZeBxxvKprmW",
        "colab": {
          "base_uri": "https://localhost:8080/"
        },
        "outputId": "6ad7d508-efe4-41d1-b3c2-37f25462f8dd"
      },
      "outputs": [
        {
          "output_type": "stream",
          "name": "stdout",
          "text": [
            "[2, 3, 4, 5, 6, 7]\n"
          ]
        }
      ],
      "source": [
        "k = [2,3,4,5,6,7]\n",
        "print(k)"
      ]
    },
    {
      "cell_type": "markdown",
      "metadata": {
        "id": "l6YzjkfVprmW"
      },
      "source": [
        "#### 50. How to find the closest value (to a given scalar) in a vector? (★★☆) \n",
        "(**hint**: argmin)"
      ]
    },
    {
      "cell_type": "code",
      "execution_count": null,
      "metadata": {
        "id": "0TnBUfyhprmW",
        "colab": {
          "base_uri": "https://localhost:8080/"
        },
        "outputId": "13a941db-6ad3-4b6e-e734-f5c5ee1930de"
      },
      "outputs": [
        {
          "output_type": "stream",
          "name": "stdout",
          "text": [
            "[2.94636075 3.66274071 4.51123348 8.92640125 7.22261337 1.14275413\n",
            " 2.67761945 6.02085303 0.13427413 0.7461085 ]\n",
            "4.511233475453339\n"
          ]
        }
      ],
      "source": [
        "arr = np.random.uniform(0,10,10)\n",
        "scal = 5\n",
        "arr_1 = np.abs(arr - 5)\n",
        "ind = arr_1.argmin()\n",
        "print(arr)\n",
        "print(arr[ind])"
      ]
    },
    {
      "cell_type": "markdown",
      "metadata": {
        "id": "cyoUtES5prmW"
      },
      "source": [
        "#### 51. Create a structured array representing a position (x,y) and a color (r,g,b) (★★☆) \n",
        "(**hint**: dtype)"
      ]
    },
    {
      "cell_type": "code",
      "execution_count": null,
      "metadata": {
        "id": "5dfBLT1vprmX",
        "colab": {
          "base_uri": "https://localhost:8080/"
        },
        "outputId": "fbe4abd7-f0bb-46dc-af7b-d69b747beed9"
      },
      "outputs": [
        {
          "output_type": "stream",
          "name": "stdout",
          "text": [
            "[((0., 0.), (0., 0., 0.)) ((0., 0.), (0., 0., 0.))\n",
            " ((0., 0.), (0., 0., 0.)) ((0., 0.), (0., 0., 0.))\n",
            " ((0., 0.), (0., 0., 0.)) ((0., 0.), (0., 0., 0.))\n",
            " ((0., 0.), (0., 0., 0.)) ((0., 0.), (0., 0., 0.))\n",
            " ((0., 0.), (0., 0., 0.)) ((0., 0.), (0., 0., 0.))]\n"
          ]
        }
      ],
      "source": [
        "import numpy as np\n",
        "Z = np.zeros(10, [ ('position', [ ('x', float),\n",
        "                                  ('y', float)]),\n",
        "                   ('color',    [ ('r', float),\n",
        "                                  ('g', float),\n",
        "                                  ('b', float)])])\n",
        "print(Z)"
      ]
    },
    {
      "cell_type": "markdown",
      "metadata": {
        "id": "jOa5lmTnprmX"
      },
      "source": [
        "#### 52. Consider a random vector with shape (100,2) representing coordinates, find point by point distances (★★☆) \n",
        "(**hint**: np.atleast\\_2d, T, np.sqrt)"
      ]
    },
    {
      "cell_type": "code",
      "execution_count": null,
      "metadata": {
        "id": "vDFlTU3wprmX",
        "colab": {
          "base_uri": "https://localhost:8080/"
        },
        "outputId": "ffcfafe1-e6a6-4d91-f990-99f47f4e48fc"
      },
      "outputs": [
        {
          "output_type": "stream",
          "name": "stdout",
          "text": [
            "[[0.         0.18773856 0.57618333 0.29653175 0.20550959 0.81248294\n",
            "  0.08667825 0.29274973 0.06166362 0.3845927 ]\n",
            " [0.18773856 0.         0.52725324 0.19983744 0.375783   0.84740991\n",
            "  0.10462158 0.10707977 0.2102496  0.20655059]\n",
            " [0.57618333 0.52725324 0.         0.72199203 0.75929342 0.41272368\n",
            "  0.56429017 0.55364588 0.63672934 0.45684908]\n",
            " [0.29653175 0.19983744 0.72199203 0.         0.39974235 1.04595271\n",
            "  0.22510995 0.18454542 0.27229763 0.32396556]\n",
            " [0.20550959 0.375783   0.75929342 0.39974235 0.         0.93249909\n",
            "  0.27253097 0.46996489 0.16566457 0.58118056]\n",
            " [0.81248294 0.84740991 0.41272368 1.04595271 0.93249909 0.\n",
            "  0.84114875 0.9074549  0.87159688 0.84218196]\n",
            " [0.08667825 0.10462158 0.56429017 0.22510995 0.27253097 0.84114875\n",
            "  0.         0.2070025  0.10697779 0.30865911]\n",
            " [0.29274973 0.10707977 0.55364588 0.18454542 0.46996489 0.9074549\n",
            "  0.2070025  0.         0.30720068 0.14161702]\n",
            " [0.06166362 0.2102496  0.63672934 0.27229763 0.16566457 0.87159688\n",
            "  0.10697779 0.30720068 0.         0.41554899]\n",
            " [0.3845927  0.20655059 0.45684908 0.32396556 0.58118056 0.84218196\n",
            "  0.30865911 0.14161702 0.41554899 0.        ]]\n"
          ]
        }
      ],
      "source": [
        "arr = np.random.random((100,2))\n",
        "X,Y = np.atleast_2d(arr[:,0],arr[:,1])\n",
        "D = np.sqrt( (X-X.T)**2 + (Y-Y.T)**2)\n",
        "import scipy\n",
        "import scipy.spatial\n",
        "Z = np.random.random((10,2))\n",
        "D = scipy.spatial.distance.cdist(Z,Z)\n",
        "print(D)"
      ]
    },
    {
      "cell_type": "markdown",
      "metadata": {
        "id": "IXgUWRP5prmX"
      },
      "source": [
        "#### 53. How to convert a float (32 bits) array into an integer (32 bits) in place? \n",
        "(**hint**: astype(copy=False))"
      ]
    },
    {
      "cell_type": "code",
      "execution_count": null,
      "metadata": {
        "id": "1-fPiNPhprmX",
        "colab": {
          "base_uri": "https://localhost:8080/"
        },
        "outputId": "7e6837e2-6622-4f50-b24d-2e376a4fcc6e"
      },
      "outputs": [
        {
          "output_type": "stream",
          "name": "stdout",
          "text": [
            "[2. 1. 2. 3. 4. 5. 6. 7. 8. 9.]\n"
          ]
        }
      ],
      "source": [
        "Z = np.arange(10, dtype=np.float32)\n",
        "Z_1 = Z.astype(np.float32, copy=False)\n",
        "Z_1[0] = 2\n",
        "print(Z)"
      ]
    },
    {
      "cell_type": "markdown",
      "metadata": {
        "id": "CP5ZMIkeprmY"
      },
      "source": [
        "#### 54. How to read the following file? (★★☆) \n",
        "(**hint**: np.genfromtxt)"
      ]
    },
    {
      "cell_type": "markdown",
      "metadata": {
        "id": "688WJ4IrprmY"
      },
      "source": [
        "```\n",
        "1, 2, 3, 4, 5\n",
        "6,  ,  , 7, 8\n",
        " ,  , 9,10,11\n",
        "```"
      ]
    },
    {
      "cell_type": "code",
      "execution_count": null,
      "metadata": {
        "id": "fXTAcw_QprmY",
        "colab": {
          "base_uri": "https://localhost:8080/"
        },
        "outputId": "fd72da00-d73c-4455-9d1b-ae7871355b35"
      },
      "outputs": [
        {
          "output_type": "stream",
          "name": "stdout",
          "text": [
            "[[ 1  2  3  4  5]\n",
            " [ 6 -1 -1  7  8]\n",
            " [-1 -1  9 10 11]]\n"
          ]
        },
        {
          "output_type": "stream",
          "name": "stderr",
          "text": [
            "/usr/local/lib/python3.7/dist-packages/ipykernel_launcher.py:5: DeprecationWarning: `np.int` is a deprecated alias for the builtin `int`. To silence this warning, use `int` by itself. Doing this will not modify any behavior and is safe. When replacing `np.int`, you may wish to use e.g. `np.int64` or `np.int32` to specify the precision. If you wish to review your current use, check the release note link for additional information.\n",
            "Deprecated in NumPy 1.20; for more details and guidance: https://numpy.org/devdocs/release/1.20.0-notes.html#deprecations\n",
            "  \"\"\"\n"
          ]
        }
      ],
      "source": [
        "from io import StringIO\n",
        "s = StringIO(\"\"\"1, 2, 3, 4, 5\\n\n",
        "                6,  ,  , 7, 8\\n\n",
        "                 ,  , 9,10,11\\n\"\"\")\n",
        "Z = np.genfromtxt(s, delimiter=\",\", dtype=np.int)\n",
        "print(Z)"
      ]
    },
    {
      "cell_type": "markdown",
      "metadata": {
        "id": "lTVCwYE_prmY"
      },
      "source": [
        "#### 55. What is the equivalent of enumerate for numpy arrays? (★★☆) \n",
        "(**hint**: np.ndenumerate, np.ndindex)"
      ]
    },
    {
      "cell_type": "code",
      "execution_count": null,
      "metadata": {
        "id": "5cJoyxWcprmY",
        "colab": {
          "base_uri": "https://localhost:8080/"
        },
        "outputId": "ae6fb144-9e57-4d6d-95ca-6d1f2ff72d95"
      },
      "outputs": [
        {
          "output_type": "stream",
          "name": "stdout",
          "text": [
            "(0, 0) 0\n",
            "(0, 1) 1\n",
            "(0, 2) 2\n",
            "(1, 0) 3\n",
            "(1, 1) 4\n",
            "(1, 2) 5\n",
            "(2, 0) 6\n",
            "(2, 1) 7\n",
            "(2, 2) 8\n",
            "(0, 0) 0\n",
            "(0, 1) 1\n",
            "(0, 2) 2\n",
            "(1, 0) 3\n",
            "(1, 1) 4\n",
            "(1, 2) 5\n",
            "(2, 0) 6\n",
            "(2, 1) 7\n",
            "(2, 2) 8\n"
          ]
        }
      ],
      "source": [
        "Z = np.arange(9).reshape(3,3)\n",
        "for index, value in np.ndenumerate(Z):\n",
        "    print(index, value)\n",
        "for index in np.ndindex(Z.shape):\n",
        "    print(index, Z[index])\n",
        "    \n",
        "    "
      ]
    },
    {
      "cell_type": "markdown",
      "metadata": {
        "id": "8QXUw66JprmY"
      },
      "source": [
        "#### 56. Generate a generic 2D Gaussian-like array (★★☆) \n",
        "(**hint**: np.meshgrid, np.exp)"
      ]
    },
    {
      "cell_type": "code",
      "execution_count": null,
      "metadata": {
        "id": "2JZL_lWEprmZ",
        "colab": {
          "base_uri": "https://localhost:8080/"
        },
        "outputId": "d6a0a3d3-3044-4b15-9d83-1e3f5117c2e3"
      },
      "outputs": [
        {
          "output_type": "stream",
          "name": "stdout",
          "text": [
            "[[0.36787944 0.44822088 0.51979489 0.57375342 0.60279818 0.60279818\n",
            "  0.57375342 0.51979489 0.44822088 0.36787944]\n",
            " [0.44822088 0.54610814 0.63331324 0.69905581 0.73444367 0.73444367\n",
            "  0.69905581 0.63331324 0.54610814 0.44822088]\n",
            " [0.51979489 0.63331324 0.73444367 0.81068432 0.85172308 0.85172308\n",
            "  0.81068432 0.73444367 0.63331324 0.51979489]\n",
            " [0.57375342 0.69905581 0.81068432 0.89483932 0.9401382  0.9401382\n",
            "  0.89483932 0.81068432 0.69905581 0.57375342]\n",
            " [0.60279818 0.73444367 0.85172308 0.9401382  0.98773022 0.98773022\n",
            "  0.9401382  0.85172308 0.73444367 0.60279818]\n",
            " [0.60279818 0.73444367 0.85172308 0.9401382  0.98773022 0.98773022\n",
            "  0.9401382  0.85172308 0.73444367 0.60279818]\n",
            " [0.57375342 0.69905581 0.81068432 0.89483932 0.9401382  0.9401382\n",
            "  0.89483932 0.81068432 0.69905581 0.57375342]\n",
            " [0.51979489 0.63331324 0.73444367 0.81068432 0.85172308 0.85172308\n",
            "  0.81068432 0.73444367 0.63331324 0.51979489]\n",
            " [0.44822088 0.54610814 0.63331324 0.69905581 0.73444367 0.73444367\n",
            "  0.69905581 0.63331324 0.54610814 0.44822088]\n",
            " [0.36787944 0.44822088 0.51979489 0.57375342 0.60279818 0.60279818\n",
            "  0.57375342 0.51979489 0.44822088 0.36787944]]\n"
          ]
        }
      ],
      "source": [
        "sigma,myu = 1.0,0.0\n",
        "\n",
        "X,Y  = np.meshgrid(np.linspace(-1,1,10),np.linspace(-1,1,10))\n",
        "D = np.sqrt(X**2+Y**2)\n",
        "G = np.exp(-(D-myu)**2/(2*sigma**2))\n",
        "print(G)"
      ]
    },
    {
      "cell_type": "markdown",
      "metadata": {
        "id": "ojJWWjhZprmZ"
      },
      "source": [
        "#### 57. How to randomly place p elements in a 2D array? (★★☆) \n",
        "(**hint**: np.put, np.random.choice)"
      ]
    },
    {
      "cell_type": "code",
      "execution_count": 17,
      "metadata": {
        "id": "CJQHPYAQprmZ",
        "colab": {
          "base_uri": "https://localhost:8080/"
        },
        "outputId": "8dbfd189-4b08-4125-d127-7870b47f381c"
      },
      "outputs": [
        {
          "output_type": "stream",
          "name": "stdout",
          "text": [
            "[[0. 0. 0. 0. 0.]\n",
            " [0. 0. 0. 0. 0.]\n",
            " [0. 0. 0. 0. 1.]\n",
            " [0. 0. 0. 0. 0.]\n",
            " [0. 1. 0. 0. 0.]]\n",
            "[[0. 0. 0. 0. 0.]\n",
            " [0. 0. 0. 0. 0.]\n",
            " [0. 1. 0. 0. 1.]\n",
            " [0. 0. 0. 0. 0.]\n",
            " [0. 1. 0. 0. 0.]]\n"
          ]
        }
      ],
      "source": [
        "n = 5\n",
        "p = 2\n",
        "Z = np.zeros((n,n))\n",
        "np.put(Z, np.random.choice(range(n*n), p, replace=False),1)\n",
        "print(Z)\n",
        "\n",
        "np.put(Z,11,1)\n",
        "print(Z)"
      ]
    },
    {
      "cell_type": "markdown",
      "metadata": {
        "id": "kkzJzox6prma"
      },
      "source": [
        "#### 58. Subtract the mean of each row of a matrix (★★☆) \n",
        "(**hint**: mean(axis=,keepdims=))"
      ]
    },
    {
      "cell_type": "code",
      "execution_count": null,
      "metadata": {
        "id": "_ZGHUX-Eprmb",
        "colab": {
          "base_uri": "https://localhost:8080/"
        },
        "outputId": "8eba399e-422e-4280-c951-fbad7b14a79e"
      },
      "outputs": [
        {
          "output_type": "execute_result",
          "data": {
            "text/plain": [
              "array([[ True],\n",
              "       [ True],\n",
              "       [ True],\n",
              "       [ True],\n",
              "       [ True]])"
            ]
          },
          "metadata": {},
          "execution_count": 57
        }
      ],
      "source": [
        "X = np.random.rand(5, 10)\n",
        "Y = X - X.mean(axis = 1,keepdims = True)\n",
        "X.mean(axis = 1).reshape(-1,1) == X.mean(axis = 1,keepdims =True)"
      ]
    },
    {
      "cell_type": "markdown",
      "metadata": {
        "id": "ikxAkTL6prmb"
      },
      "source": [
        "#### 59. How to sort an array by the nth column? (★★☆) \n",
        "(**hint**: argsort)"
      ]
    },
    {
      "cell_type": "code",
      "execution_count": null,
      "metadata": {
        "id": "rJkfTHKyprmb",
        "colab": {
          "base_uri": "https://localhost:8080/"
        },
        "outputId": "ce295e95-020a-46b1-b67f-6eaa9058bb1b"
      },
      "outputs": [
        {
          "output_type": "stream",
          "name": "stdout",
          "text": [
            "[[1 3 8 6 0]\n",
            " [0 4 4 6 7]\n",
            " [6 2 1 6 5]\n",
            " [7 3 1 7 2]\n",
            " [6 5 4 1 2]]\n",
            "[[6 5 4 1 2]\n",
            " [0 4 4 6 7]\n",
            " [1 3 8 6 0]\n",
            " [7 3 1 7 2]\n",
            " [6 2 1 6 5]]\n",
            "[[1 3 8 6 0]\n",
            " [0 4 4 6 7]\n",
            " [6 2 1 6 5]\n",
            " [7 3 1 7 2]\n",
            " [6 5 4 1 2]]\n"
          ]
        }
      ],
      "source": [
        "Z = np.random.randint(0,10,(5,5))\n",
        "print(Z)\n",
        "print(Z[(-Z)[:,1].argsort()])\n",
        "print(Z[:,Z[1,:].argsort()])"
      ]
    },
    {
      "cell_type": "markdown",
      "metadata": {
        "id": "pZkjIKemprmb"
      },
      "source": [
        "#### 60. How to tell if a given 2D array has null columns? (★★☆) \n",
        "(**hint**: any, ~)"
      ]
    },
    {
      "cell_type": "code",
      "execution_count": null,
      "metadata": {
        "id": "RCpu9eByprmb",
        "colab": {
          "base_uri": "https://localhost:8080/"
        },
        "outputId": "7ab39bca-5c2f-4ef4-ce08-3eb2285a71fd"
      },
      "outputs": [
        {
          "output_type": "stream",
          "name": "stdout",
          "text": [
            "[[ True False  True  True  True  True  True  True  True  True]\n",
            " [ True False False  True  True  True  True False  True  True]\n",
            " [False False False  True  True  True  True False  True False]]\n",
            "[[False  True False False False False False False False False]\n",
            " [False  True  True False False False False  True False False]\n",
            " [ True  True  True False False False False  True False  True]]\n"
          ]
        },
        {
          "output_type": "execute_result",
          "data": {
            "text/plain": [
              "array([ True, False,  True,  True,  True,  True,  True,  True,  True,\n",
              "        True])"
            ]
          },
          "metadata": {},
          "execution_count": 54
        }
      ],
      "source": [
        "Z = np.random.randint(0,3,(3,10))\n",
        "Z[:,1] = 0\n",
        "Z = Z.astype(bool)\n",
        "print(Z)\n",
        "print(~Z)\n",
        "(Z).any(axis = 0)"
      ]
    },
    {
      "cell_type": "markdown",
      "metadata": {
        "id": "8HZ6NW8Qprmc"
      },
      "source": [
        "#### 61. Find the nearest value from a given value in an array (★★☆) \n",
        "(**hint**: np.abs, argmin, flat)"
      ]
    },
    {
      "cell_type": "code",
      "execution_count": 21,
      "metadata": {
        "id": "ajdScwI8prmc",
        "colab": {
          "base_uri": "https://localhost:8080/"
        },
        "outputId": "5625eaa6-eb86-41ad-e287-8676d2c6e36b"
      },
      "outputs": [
        {
          "output_type": "stream",
          "name": "stdout",
          "text": [
            "0.5265576755121916\n"
          ]
        }
      ],
      "source": [
        "Z = np.random.uniform(0,1,10)\n",
        "z = 0.5\n",
        "m = Z.flat[np.abs(Z - z).argmin()]\n",
        "print(m)"
      ]
    },
    {
      "cell_type": "markdown",
      "metadata": {
        "id": "BBLSCMsnprmc"
      },
      "source": [
        "#### 62. Considering two arrays with shape (1,3) and (3,1), how to compute their sum using an iterator? (★★☆) \n",
        "(**hint**: np.nditer)"
      ]
    },
    {
      "cell_type": "code",
      "execution_count": 6,
      "metadata": {
        "id": "rbnDglXqprmc",
        "colab": {
          "base_uri": "https://localhost:8080/"
        },
        "outputId": "11d093c0-cb3c-4305-d1e4-743201e10236"
      },
      "outputs": [
        {
          "output_type": "stream",
          "name": "stdout",
          "text": [
            "[[0 1 2]\n",
            " [1 2 3]\n",
            " [2 3 4]]\n"
          ]
        }
      ],
      "source": [
        "import numpy as np\n",
        "\n",
        "A = np.arange(3).reshape(3,1)\n",
        "B = np.arange(3).reshape(1,3)\n",
        "it = np.nditer([A,B,None])\n",
        "for x,y,z in it: z[...] = x + y\n",
        "print(it.operands[2])"
      ]
    },
    {
      "cell_type": "markdown",
      "metadata": {
        "id": "MHvV2nRcprmc"
      },
      "source": [
        "#### 63. Create an array class that has a name attribute (★★☆) \n",
        "(**hint**: class method)"
      ]
    },
    {
      "cell_type": "code",
      "execution_count": 3,
      "metadata": {
        "id": "_Ek_3lCZprmd",
        "colab": {
          "base_uri": "https://localhost:8080/"
        },
        "outputId": "e13c33c3-8b23-4bc7-9e3b-0b6e1cc0e561"
      },
      "outputs": [
        {
          "output_type": "stream",
          "name": "stdout",
          "text": [
            "range_10\n"
          ]
        }
      ],
      "source": [
        "class NamedArray(np.ndarray):\n",
        "    def __new__(cls, array, name=\"no name\"):\n",
        "        obj = np.asarray(array).view(cls)\n",
        "        obj.name = name\n",
        "        return obj\n",
        "    def __array_finalize__(self, obj):\n",
        "        if obj is None: return\n",
        "        self.info = getattr(obj, 'name', \"no name\")\n",
        "\n",
        "Z = NamedArray(np.arange(10), \"range_10\")\n",
        "print (Z.name)"
      ]
    },
    {
      "cell_type": "markdown",
      "metadata": {
        "id": "htnARObPprmd"
      },
      "source": [
        "#### 64. Consider a given vector, how to add 1 to each element indexed by a second vector (be careful with repeated indices)? (★★★) \n",
        "(**hint**: np.bincount | np.add.at)"
      ]
    },
    {
      "cell_type": "code",
      "execution_count": 7,
      "metadata": {
        "id": "ecn6oorDprmd",
        "colab": {
          "base_uri": "https://localhost:8080/"
        },
        "outputId": "265af0b8-3adc-4bd7-c6ca-00723128bc04"
      },
      "outputs": [
        {
          "output_type": "stream",
          "name": "stdout",
          "text": [
            "[4. 3. 3. 1. 4. 1. 4. 3. 4. 3.]\n"
          ]
        }
      ],
      "source": [
        "Z = np.ones(10)\n",
        "I = np.random.randint(0,len(Z),20)\n",
        "Z += np.bincount(I, minlength=len(Z))\n",
        "print(Z)"
      ]
    },
    {
      "cell_type": "markdown",
      "metadata": {
        "id": "5cdO-kDAprmd"
      },
      "source": [
        "#### 65. How to accumulate elements of a vector (X) to an array (F) based on an index list (I)? (★★★) \n",
        "(**hint**: np.bincount)"
      ]
    },
    {
      "cell_type": "code",
      "execution_count": 8,
      "metadata": {
        "id": "Am9GvBbeprmd",
        "colab": {
          "base_uri": "https://localhost:8080/"
        },
        "outputId": "8c43c7ad-7030-41d1-b287-13e0f01607f5"
      },
      "outputs": [
        {
          "output_type": "stream",
          "name": "stdout",
          "text": [
            "[0. 6. 0. 6. 5. 0. 0. 0. 0. 3.]\n"
          ]
        }
      ],
      "source": [
        "X = [2,3,4,5,6]\n",
        "I = [3,9,3,4,1]\n",
        "F = np.bincount(I,X)\n",
        "print(F)"
      ]
    },
    {
      "cell_type": "markdown",
      "metadata": {
        "id": "tKFMJcYjprmd"
      },
      "source": [
        "#### 66. Considering a (w,h,3) image of (dtype=ubyte), compute the number of unique colors (★★★) \n",
        "(**hint**: np.unique)"
      ]
    },
    {
      "cell_type": "code",
      "execution_count": 9,
      "metadata": {
        "id": "rEi45DhVprmd",
        "colab": {
          "base_uri": "https://localhost:8080/"
        },
        "outputId": "41161ec4-9ca5-4d83-9efd-f4b467c27e76"
      },
      "outputs": [
        {
          "output_type": "stream",
          "name": "stdout",
          "text": [
            "64\n"
          ]
        }
      ],
      "source": [
        "w, h = 256, 256\n",
        "I = np.random.randint(0, 4, (h, w, 3)).astype(np.ubyte)\n",
        "colors = np.unique(I.reshape(-1, 3), axis=0)\n",
        "n = len(colors)\n",
        "print(n)\n"
      ]
    },
    {
      "cell_type": "markdown",
      "metadata": {
        "id": "Xj6Uzr-4prme"
      },
      "source": [
        "#### 67. Considering a four dimensions array, how to get sum over the last two axis at once? (★★★) \n",
        "(**hint**: sum(axis=(-2,-1)))"
      ]
    },
    {
      "cell_type": "code",
      "execution_count": 10,
      "metadata": {
        "id": "Udxx4AhKprme",
        "colab": {
          "base_uri": "https://localhost:8080/"
        },
        "outputId": "7f809fe5-9dab-4ce3-ee76-3fe153cb4349"
      },
      "outputs": [
        {
          "output_type": "stream",
          "name": "stdout",
          "text": [
            "[[54 51 56 67]\n",
            " [46 51 42 50]\n",
            " [49 61 60 61]]\n",
            "[[54 51 56 67]\n",
            " [46 51 42 50]\n",
            " [49 61 60 61]]\n"
          ]
        }
      ],
      "source": [
        "A = np.random.randint(0,10,(3,4,3,4))\n",
        "sum = A.sum(axis=(-2,-1))\n",
        "print(sum)\n",
        "sum = A.reshape(A.shape[:-2] + (-1,)).sum(axis=-1)\n",
        "print(sum)"
      ]
    },
    {
      "cell_type": "markdown",
      "metadata": {
        "id": "sccyBzUrprme"
      },
      "source": [
        "#### 68. Considering a one-dimensional vector D, how to compute means of subsets of D using a vector S of same size describing subset  indices? (★★★) \n",
        "(**hint**: np.bincount)"
      ]
    },
    {
      "cell_type": "code",
      "execution_count": 11,
      "metadata": {
        "id": "kOKMnPnCprme",
        "colab": {
          "base_uri": "https://localhost:8080/"
        },
        "outputId": "29f4fad2-a7d8-48f1-853a-4028d4e91d80"
      },
      "outputs": [
        {
          "output_type": "stream",
          "name": "stdout",
          "text": [
            "[0.57537314 0.51079981 0.67235563 0.50828717 0.56591267 0.53644505\n",
            " 0.69432941 0.44411024 0.57088907 0.48778286]\n"
          ]
        }
      ],
      "source": [
        "D = np.random.uniform(0,1,100)\n",
        "S = np.random.randint(0,10,100)\n",
        "D_sums = np.bincount(S, weights=D)\n",
        "D_counts = np.bincount(S)\n",
        "D_means = D_sums / D_counts\n",
        "print(D_means)"
      ]
    },
    {
      "cell_type": "markdown",
      "metadata": {
        "id": "bP65Mautprme"
      },
      "source": [
        "#### 69. How to get the diagonal of a dot product? (★★★) \n",
        "(**hint**: np.diag)"
      ]
    },
    {
      "cell_type": "code",
      "execution_count": 13,
      "metadata": {
        "id": "hTSYFI3Jprme",
        "colab": {
          "base_uri": "https://localhost:8080/"
        },
        "outputId": "1c462c94-9332-4f78-dc3c-1b49ae96e1fe"
      },
      "outputs": [
        {
          "output_type": "execute_result",
          "data": {
            "text/plain": [
              "array([[0.69967254, 0.28728824, 0.5644815 , 0.9597508 , 0.99796742],\n",
              "       [0.10806712, 0.70800535, 0.22685111, 0.42779493, 0.76882707],\n",
              "       [0.05732026, 0.13110491, 0.19023531, 0.0971692 , 0.47882315],\n",
              "       [0.84010345, 0.50385393, 0.81390755, 0.87553853, 0.57346123],\n",
              "       [0.95184084, 0.72051358, 0.07496988, 0.87780413, 0.31494796]])"
            ]
          },
          "metadata": {},
          "execution_count": 13
        }
      ],
      "source": [
        "A = np.random.uniform(0,1,(5,5))\n",
        "B = np.random.uniform(0,1,(5,5))\n",
        "A"
      ]
    },
    {
      "cell_type": "markdown",
      "metadata": {
        "id": "WiVSNJ0yprmf"
      },
      "source": [
        "#### 70. Consider the vector \\[1, 2, 3, 4, 5\\], how to build a new vector with 3 consecutive zeros interleaved between each value? (★★★) \n",
        "(**hint**: array\\[::4\\])"
      ]
    },
    {
      "cell_type": "code",
      "execution_count": 14,
      "metadata": {
        "id": "pJVKQwVhprmf",
        "colab": {
          "base_uri": "https://localhost:8080/"
        },
        "outputId": "50f7aac4-47a2-4cd3-8f9c-53ec1e35ae75"
      },
      "outputs": [
        {
          "output_type": "stream",
          "name": "stdout",
          "text": [
            "[1. 0. 0. 0. 2. 0. 0. 0. 3. 0. 0. 0. 4. 0. 0. 0. 5.]\n"
          ]
        }
      ],
      "source": [
        "Z = np.array([1,2,3,4,5])\n",
        "nz = 3\n",
        "Z0 = np.zeros(len(Z) + (len(Z)-1)*(nz))\n",
        "Z0[::nz+1] = Z\n",
        "print(Z0)"
      ]
    },
    {
      "cell_type": "markdown",
      "metadata": {
        "id": "uAZNxetjprmf"
      },
      "source": [
        "#### 71. Consider an array of dimension (5,5,3), how to mulitply it by an array with dimensions (5,5)? (★★★) \n",
        "(**hint**: array\\[:, :, None\\])"
      ]
    },
    {
      "cell_type": "code",
      "execution_count": 16,
      "metadata": {
        "collapsed": true,
        "id": "0_DsR9zVprmf",
        "colab": {
          "base_uri": "https://localhost:8080/"
        },
        "outputId": "c8ba9f33-9e70-47c0-8eba-a8cc2385f62d"
      },
      "outputs": [
        {
          "output_type": "stream",
          "name": "stdout",
          "text": [
            "[[[2. 2. 2.]\n",
            "  [2. 2. 2.]\n",
            "  [2. 2. 2.]\n",
            "  [2. 2. 2.]\n",
            "  [2. 2. 2.]]\n",
            "\n",
            " [[2. 2. 2.]\n",
            "  [2. 2. 2.]\n",
            "  [2. 2. 2.]\n",
            "  [2. 2. 2.]\n",
            "  [2. 2. 2.]]\n",
            "\n",
            " [[2. 2. 2.]\n",
            "  [2. 2. 2.]\n",
            "  [2. 2. 2.]\n",
            "  [2. 2. 2.]\n",
            "  [2. 2. 2.]]\n",
            "\n",
            " [[2. 2. 2.]\n",
            "  [2. 2. 2.]\n",
            "  [2. 2. 2.]\n",
            "  [2. 2. 2.]\n",
            "  [2. 2. 2.]]\n",
            "\n",
            " [[2. 2. 2.]\n",
            "  [2. 2. 2.]\n",
            "  [2. 2. 2.]\n",
            "  [2. 2. 2.]\n",
            "  [2. 2. 2.]]]\n"
          ]
        }
      ],
      "source": [
        "A = np.ones((5,5,3))\n",
        "B = 2*np.ones((5,5))\n",
        "print(A * B[:,:,None])"
      ]
    },
    {
      "cell_type": "markdown",
      "metadata": {
        "id": "bMXjGq2uprmf"
      },
      "source": [
        "#### 72. How to swap two rows of an array? (★★★) \n",
        "(**hint**: array\\[\\[\\]\\] = array\\[\\[\\]\\])"
      ]
    },
    {
      "cell_type": "code",
      "execution_count": 17,
      "metadata": {
        "id": "0SaP4vK6prmf",
        "colab": {
          "base_uri": "https://localhost:8080/"
        },
        "outputId": "932d3859-c72e-4bf4-c582-9bb4b0b7b773"
      },
      "outputs": [
        {
          "output_type": "stream",
          "name": "stdout",
          "text": [
            "[[ 5  6  7  8  9]\n",
            " [ 0  1  2  3  4]\n",
            " [10 11 12 13 14]\n",
            " [15 16 17 18 19]\n",
            " [20 21 22 23 24]]\n"
          ]
        }
      ],
      "source": [
        "A = np.arange(25).reshape(5,5)\n",
        "A[[0,1]] = A[[1,0]]\n",
        "print(A)"
      ]
    },
    {
      "cell_type": "markdown",
      "metadata": {
        "id": "RNVYaG7aprmf"
      },
      "source": [
        "#### 73. Consider a set of 10 triplets describing 10 triangles (with shared vertices), find the set of unique line segments composing all the  triangles (★★★) \n",
        "(**hint**: repeat, np.roll, np.sort, view, np.unique)"
      ]
    },
    {
      "cell_type": "code",
      "execution_count": 18,
      "metadata": {
        "id": "rVcB_oDoprmg",
        "colab": {
          "base_uri": "https://localhost:8080/"
        },
        "outputId": "8314ec09-7cb2-485e-ecf7-d5dd016d6c92"
      },
      "outputs": [
        {
          "output_type": "stream",
          "name": "stdout",
          "text": [
            "[( 2, 36) ( 2, 91) ( 3, 93) ( 3, 96) ( 9, 13) ( 9, 27) (13, 27) (21, 32)\n",
            " (21, 90) (22, 75) (22, 82) (26, 27) (26, 86) (27, 86) (32, 90) (36, 91)\n",
            " (50, 91) (50, 92) (51, 64) (51, 71) (51, 98) (64, 98) (71, 98) (75, 79)\n",
            " (75, 82) (79, 82) (91, 92) (93, 96)]\n"
          ]
        }
      ],
      "source": [
        "faces = np.random.randint(0,100,(10,3))\n",
        "F = np.roll(faces.repeat(2,axis=1),-1,axis=1)\n",
        "F = F.reshape(len(F)*3,2)\n",
        "F = np.sort(F,axis=1)\n",
        "G = F.view( dtype=[('p0',F.dtype),('p1',F.dtype)] )\n",
        "G = np.unique(G)\n",
        "print(G)"
      ]
    },
    {
      "cell_type": "markdown",
      "metadata": {
        "id": "TajwkXNsprmg"
      },
      "source": [
        "#### 74. Given an array C that is a bincount, how to produce an array A such that np.bincount(A) == C? (★★★) \n",
        "(**hint**: np.repeat)"
      ]
    },
    {
      "cell_type": "code",
      "execution_count": 19,
      "metadata": {
        "id": "kxLUs7xtprmg",
        "colab": {
          "base_uri": "https://localhost:8080/"
        },
        "outputId": "36eeefe4-646b-4bfd-8a1a-85f09300ee55"
      },
      "outputs": [
        {
          "output_type": "stream",
          "name": "stdout",
          "text": [
            "[1 1 2 3 4 4 6]\n"
          ]
        }
      ],
      "source": [
        "C = np.bincount([1,1,2,3,4,4,6])\n",
        "A = np.repeat(np.arange(len(C)), C)\n",
        "print(A)"
      ]
    },
    {
      "cell_type": "markdown",
      "metadata": {
        "id": "JtLegcVtprmg"
      },
      "source": [
        "#### 75. How to compute averages using a sliding window over an array? (★★★) \n",
        "(**hint**: np.cumsum)"
      ]
    },
    {
      "cell_type": "code",
      "execution_count": 20,
      "metadata": {
        "id": "D5aVl2kpprmg",
        "colab": {
          "base_uri": "https://localhost:8080/"
        },
        "outputId": "5ec7c19f-b36f-4e21-d163-03721c8d6d43"
      },
      "outputs": [
        {
          "output_type": "stream",
          "name": "stdout",
          "text": [
            "[ 1.  2.  3.  4.  5.  6.  7.  8.  9. 10. 11. 12. 13. 14. 15. 16. 17. 18.]\n"
          ]
        }
      ],
      "source": [
        "from numpy.lib.stride_tricks import sliding_window_view\n",
        "\n",
        "Z = np.arange(20)\n",
        "print(sliding_window_view(Z, window_shape=3).mean(axis=-1))"
      ]
    },
    {
      "cell_type": "markdown",
      "metadata": {
        "id": "m-hRrocdprmh"
      },
      "source": [
        "#### 76. Consider a one-dimensional array Z, build a two-dimensional array whose first row is (Z\\[0\\],Z\\[1\\],Z\\[2\\]) and each subsequent row is  shifted by 1 (last row should be (Z\\[-3\\],Z\\[-2\\],Z\\[-1\\]) (★★★) \n",
        "(**hint**: from numpy.lib import stride_tricks)"
      ]
    },
    {
      "cell_type": "code",
      "execution_count": 21,
      "metadata": {
        "id": "ZzyYAX31prmh",
        "colab": {
          "base_uri": "https://localhost:8080/"
        },
        "outputId": "7ba56c35-f892-44cb-aa85-42c32b8cbc71"
      },
      "outputs": [
        {
          "output_type": "stream",
          "name": "stdout",
          "text": [
            "[[0 1 2]\n",
            " [1 2 3]\n",
            " [2 3 4]\n",
            " [3 4 5]\n",
            " [4 5 6]\n",
            " [5 6 7]\n",
            " [6 7 8]\n",
            " [7 8 9]]\n"
          ]
        }
      ],
      "source": [
        "from numpy.lib import stride_tricks\n",
        "\n",
        "def rolling(a, window):\n",
        "    shape = (a.size - window + 1, window)\n",
        "    strides = (a.strides[0], a.strides[0])\n",
        "    return stride_tricks.as_strided(a, shape=shape, strides=strides)\n",
        "Z = rolling(np.arange(10), 3)\n",
        "print(Z)\n"
      ]
    },
    {
      "cell_type": "markdown",
      "metadata": {
        "id": "J-jnQfxfprmh"
      },
      "source": [
        "#### 77. How to negate a boolean, or to change the sign of a float inplace? (★★★) \n",
        "(**hint**: np.logical_not, np.negative)"
      ]
    },
    {
      "cell_type": "code",
      "execution_count": 22,
      "metadata": {
        "id": "eu1GperBprmh",
        "colab": {
          "base_uri": "https://localhost:8080/"
        },
        "outputId": "a2f06b0d-ad43-4e5e-f23e-edbcb93c7496"
      },
      "outputs": [
        {
          "output_type": "execute_result",
          "data": {
            "text/plain": [
              "array([-0.40262737, -0.60665329,  0.40179289,  0.92740998,  0.53795402,\n",
              "       -0.04187701,  0.9643536 ,  0.35129986,  0.03679979, -0.67327039,\n",
              "       -0.85236526,  0.61929302,  0.09200034, -0.58085743, -0.16711062,\n",
              "       -0.08091645, -0.98105518, -0.34821455,  0.66289389,  0.10322648,\n",
              "        0.54585626,  0.54688585, -0.7094084 , -0.6045993 ,  0.56878184,\n",
              "       -0.00940026, -0.46773116,  0.29211165, -0.88481241, -0.09818023,\n",
              "       -0.03295838, -0.10182136,  0.48409526, -0.03578019, -0.11504749,\n",
              "        0.83876461,  0.03381563, -0.33783518,  0.68147738,  0.50558319,\n",
              "       -0.71358479, -0.09702754,  0.43326541,  0.99425404, -0.53456022,\n",
              "       -0.11727906,  0.52048288, -0.11606372, -0.52204173, -0.72145269,\n",
              "        0.65309558,  0.97212665,  0.68939823,  0.45949697, -0.5551555 ,\n",
              "        0.83599641, -0.76439015, -0.0868939 ,  0.34408752, -0.97489615,\n",
              "        0.79008658, -0.87421345,  0.38308798, -0.52835035,  0.8414118 ,\n",
              "        0.07052566, -0.97821112, -0.23713611, -0.50975581, -0.23476386,\n",
              "       -0.50083935,  0.10454136, -0.40660016, -0.66249075, -0.37830234,\n",
              "        0.05612588, -0.93395057,  0.96893449,  0.18703004, -0.51284228,\n",
              "       -0.23897781,  0.3321094 , -0.52106005, -0.96005988, -0.20247116,\n",
              "        0.42682744,  0.05674416,  0.55889252,  0.75089075, -0.4869856 ,\n",
              "        0.8883106 , -0.61514142,  0.92223763,  0.02648769, -0.66575435,\n",
              "        0.85127622, -0.83637155,  0.59646726,  0.83274455,  0.06424168])"
            ]
          },
          "metadata": {},
          "execution_count": 22
        }
      ],
      "source": [
        "Z = np.random.randint(0,2,100)\n",
        "np.logical_not(Z, out=Z)\n",
        "\n",
        "Z = np.random.uniform(-1.0,1.0,100)\n",
        "np.negative(Z, out=Z)"
      ]
    },
    {
      "cell_type": "markdown",
      "metadata": {
        "id": "uADMkkGsprmh"
      },
      "source": [
        "#### 78. Consider 2 sets of points P0,P1 describing lines (2d) and a point p, how to compute distance from p to each line i  (P0\\[i\\],P1\\[i\\])? (★★★)"
      ]
    },
    {
      "cell_type": "code",
      "execution_count": 23,
      "metadata": {
        "id": "GcN-zFojprmh",
        "colab": {
          "base_uri": "https://localhost:8080/"
        },
        "outputId": "e1a4fb6e-3650-4304-f954-72514309c4ff"
      },
      "outputs": [
        {
          "output_type": "stream",
          "name": "stdout",
          "text": [
            "[14.65018829  1.78215872 16.61129627  7.17405816 15.73326007 14.65487814\n",
            " 12.87281341  2.78184836  4.01103518  0.29073783]\n"
          ]
        }
      ],
      "source": [
        "def distance(P0, P1, p):\n",
        "    T = P1 - P0\n",
        "    L = (T**2).sum(axis=1)\n",
        "    U = -((P0[:,0]-p[...,0])*T[:,0] + (P0[:,1]-p[...,1])*T[:,1]) / L\n",
        "    U = U.reshape(len(U),1)\n",
        "    D = P0 + U*T - p\n",
        "    return np.sqrt((D**2).sum(axis=1))\n",
        "\n",
        "P0 = np.random.uniform(-10,10,(10,2))\n",
        "P1 = np.random.uniform(-10,10,(10,2))\n",
        "p  = np.random.uniform(-10,10,( 1,2))\n",
        "print(distance(P0, P1, p))"
      ]
    },
    {
      "cell_type": "markdown",
      "metadata": {
        "id": "t2rATOnhprmj"
      },
      "source": [
        "#### 79. Consider 2 sets of points P0,P1 describing lines (2d) and a set of points P, how to compute distance from each point j (P\\[j\\]) to each line i (P0\\[i\\],P1\\[i\\])? (★★★)"
      ]
    },
    {
      "cell_type": "code",
      "execution_count": 24,
      "metadata": {
        "id": "sA67oYC0prmk",
        "colab": {
          "base_uri": "https://localhost:8080/"
        },
        "outputId": "8cc0943a-f1a3-4934-a8fa-5e26fad0a337"
      },
      "outputs": [
        {
          "output_type": "stream",
          "name": "stdout",
          "text": [
            "[[ 6.0403495   0.94602708  3.20809139  9.68176295  4.72445112  3.29234574\n",
            "   6.97695091  1.61478367  3.46629776  3.13364613]\n",
            " [ 2.65626606  9.70131376  1.77378572  1.04016353 11.10015704  2.678963\n",
            "   3.26710721 10.60730529  2.36283896 11.95900945]\n",
            " [ 3.53903916 10.10777061 20.29464712  0.25156486  4.58517546 15.10586983\n",
            "  11.55987477  5.11812446 15.10669049 11.72168338]\n",
            " [ 3.09345753  9.82455188 13.96748643  0.33334193  0.68850872  8.99744744\n",
            "   6.41481325  6.85259752  9.09833252 11.65806378]\n",
            " [ 2.4206353   4.64692843  0.41392244  6.13374205  9.30061273  5.12312148\n",
            "   7.13375626  6.1112222   5.05012445  6.94033019]\n",
            " [ 1.3979512   5.60106052  3.16562298  5.05267281  7.4951443   2.27829255\n",
            "   4.4367276   6.16711149  2.2047768   7.8008702 ]\n",
            " [ 8.21555957  1.29529445  5.55770732 11.79899967  1.38781059  1.55557034\n",
            "   6.36365865  1.31724131  1.89103518  0.80537578]\n",
            " [ 4.2610766  11.30463381  1.98585084  0.56508208 11.85955102  2.1131391\n",
            "   2.21345595 12.10321326  1.71590335 13.55863704]\n",
            " [ 0.59186929  7.30918069 14.26031782  2.82176406  1.04069282  8.7073148\n",
            "   5.25497258  4.30696129  8.66957096  9.12671058]\n",
            " [ 5.97157749  0.94353089  5.97316094  9.55176815  2.34560321  0.65147482\n",
            "   4.79828894  0.73367612  0.87584817  3.03489107]]\n"
          ]
        }
      ],
      "source": [
        "P0 = np.random.uniform(-10, 10, (10,2))\n",
        "P1 = np.random.uniform(-10,10,(10,2))\n",
        "p = np.random.uniform(-10, 10, (10,2))\n",
        "print(np.array([distance(P0,P1,p_i) for p_i in p]))"
      ]
    },
    {
      "cell_type": "markdown",
      "metadata": {
        "id": "5Q1k1xs3prmk"
      },
      "source": [
        "#### 80. Consider an arbitrary array, write a function that extract a subpart with a fixed shape and centered on a given element (pad with a `fill` value when necessary) (★★★) \n",
        "(**hint**: minimum, maximum)"
      ]
    },
    {
      "cell_type": "code",
      "execution_count": 25,
      "metadata": {
        "id": "vF784Tx8prmk",
        "colab": {
          "base_uri": "https://localhost:8080/"
        },
        "outputId": "8b42f7c3-e93a-46b4-d638-351bddd5fb29"
      },
      "outputs": [
        {
          "output_type": "stream",
          "name": "stdout",
          "text": [
            "[[4 5 7 2 7 0 2 5 5 4]\n",
            " [1 1 6 1 5 6 5 4 0 6]\n",
            " [6 2 2 3 1 2 2 8 9 0]\n",
            " [0 2 0 5 7 7 0 6 1 0]\n",
            " [9 3 8 6 9 3 3 1 8 4]\n",
            " [1 2 6 4 1 0 4 4 8 9]\n",
            " [1 3 3 3 2 8 4 7 5 0]\n",
            " [7 1 4 2 0 1 7 1 3 0]\n",
            " [0 9 4 2 7 6 8 3 6 1]\n",
            " [8 5 5 4 9 4 9 6 5 6]]\n",
            "[[0 0 0 0 0]\n",
            " [0 4 5 7 2]\n",
            " [0 1 1 6 1]\n",
            " [0 6 2 2 3]\n",
            " [0 0 2 0 5]]\n"
          ]
        },
        {
          "output_type": "stream",
          "name": "stderr",
          "text": [
            "/usr/local/lib/python3.7/dist-packages/ipykernel_launcher.py:23: FutureWarning: Using a non-tuple sequence for multidimensional indexing is deprecated; use `arr[tuple(seq)]` instead of `arr[seq]`. In the future this will be interpreted as an array index, `arr[np.array(seq)]`, which will result either in an error or a different result.\n"
          ]
        }
      ],
      "source": [
        "Z = np.random.randint(0,10,(10,10))\n",
        "shape = (5,5)\n",
        "fill  = 0\n",
        "position = (1,1)\n",
        "\n",
        "R = np.ones(shape, dtype=Z.dtype)*fill\n",
        "P  = np.array(list(position)).astype(int)\n",
        "Rs = np.array(list(R.shape)).astype(int)\n",
        "Zs = np.array(list(Z.shape)).astype(int)\n",
        "\n",
        "R_start = np.zeros((len(shape),)).astype(int)\n",
        "R_stop  = np.array(list(shape)).astype(int)\n",
        "Z_start = (P-Rs//2)\n",
        "Z_stop  = (P+Rs//2)+Rs%2\n",
        "\n",
        "R_start = (R_start - np.minimum(Z_start,0)).tolist()\n",
        "Z_start = (np.maximum(Z_start,0)).tolist()\n",
        "R_stop = np.maximum(R_start, (R_stop - np.maximum(Z_stop-Zs,0))).tolist()\n",
        "Z_stop = (np.minimum(Z_stop,Zs)).tolist()\n",
        "\n",
        "r = [slice(start,stop) for start,stop in zip(R_start,R_stop)]\n",
        "z = [slice(start,stop) for start,stop in zip(Z_start,Z_stop)]\n",
        "R[r] = Z[z]\n",
        "print(Z)\n",
        "print(R)"
      ]
    },
    {
      "cell_type": "markdown",
      "metadata": {
        "id": "GoVTHn6yprml"
      },
      "source": [
        "#### 81. Consider an array Z = \\[1,2,3,4,5,6,7,8,9,10,11,12,13,14\\], how to generate an array R = \\[\\[1,2,3,4\\], \\[2,3,4,5\\], \\[3,4,5,6\\], ..., \\[11,12,13,14\\]\\]? (★★★) \n",
        "(**hint**: stride\\_tricks.as\\_strided)"
      ]
    },
    {
      "cell_type": "code",
      "execution_count": 29,
      "metadata": {
        "id": "m7SiVh7Gprml",
        "colab": {
          "base_uri": "https://localhost:8080/"
        },
        "outputId": "bd7baecd-35f8-416a-93b1-a5c8fe52f465"
      },
      "outputs": [
        {
          "output_type": "stream",
          "name": "stdout",
          "text": [
            "[[ 1  2  3  4]\n",
            " [ 2  3  4  5]\n",
            " [ 3  4  5  6]\n",
            " [ 4  5  6  7]\n",
            " [ 5  6  7  8]\n",
            " [ 6  7  8  9]\n",
            " [ 7  8  9 10]\n",
            " [ 8  9 10 11]\n",
            " [ 9 10 11 12]\n",
            " [10 11 12 13]\n",
            " [11 12 13 14]]\n",
            "[[ 1  2  3  4]\n",
            " [ 2  3  4  5]\n",
            " [ 3  4  5  6]\n",
            " [ 4  5  6  7]\n",
            " [ 5  6  7  8]\n",
            " [ 6  7  8  9]\n",
            " [ 7  8  9 10]\n",
            " [ 8  9 10 11]\n",
            " [ 9 10 11 12]\n",
            " [10 11 12 13]\n",
            " [11 12 13 14]]\n"
          ]
        }
      ],
      "source": [
        "Z = np.arange(1,15,dtype=np.uint32)\n",
        "R = stride_tricks.as_strided(Z,(11,4),(4,4))\n",
        "print(R)\n",
        "Z = np.arange(1, 15, dtype=np.uint32)\n",
        "print(sliding_window_view(Z, window_shape=4))"
      ]
    },
    {
      "cell_type": "markdown",
      "metadata": {
        "id": "pG0KtlWUprml"
      },
      "source": [
        "#### 82. Compute a matrix rank (★★★) \n",
        "(**hint**: np.linalg.svd) (suggestion: np.linalg.svd)"
      ]
    },
    {
      "cell_type": "code",
      "execution_count": 27,
      "metadata": {
        "id": "mqIrzudvprmm",
        "colab": {
          "base_uri": "https://localhost:8080/"
        },
        "outputId": "5171cc05-633a-47d8-f281-30e100ebdd44"
      },
      "outputs": [
        {
          "output_type": "stream",
          "name": "stdout",
          "text": [
            "10\n"
          ]
        }
      ],
      "source": [
        "Z = np.random.uniform(0,1,(10,10))\n",
        "U, S, V = np.linalg.svd(Z) # Singular Value Decomposition\n",
        "rank = np.sum(S > 1e-10)\n",
        "print(rank)"
      ]
    },
    {
      "cell_type": "markdown",
      "metadata": {
        "id": "830KShVyprmm"
      },
      "source": [
        "#### 83. How to find the most frequent value in an array? \n",
        "(**hint**: np.bincount, argmax)"
      ]
    },
    {
      "cell_type": "code",
      "execution_count": 53,
      "metadata": {
        "id": "JylbgUKDprmm",
        "colab": {
          "base_uri": "https://localhost:8080/"
        },
        "outputId": "d11865b1-4fe0-4d3f-bfb1-b2df7e59a261"
      },
      "outputs": [
        {
          "output_type": "stream",
          "name": "stdout",
          "text": [
            "6\n"
          ]
        }
      ],
      "source": [
        "Z = np.random.randint(0,10,50)\n",
        "print(np.bincount(Z).argmax())"
      ]
    },
    {
      "cell_type": "markdown",
      "metadata": {
        "id": "AH3kAVncprmn"
      },
      "source": [
        "#### 84. Extract all the contiguous 3x3 blocks from a random 10x10 matrix (★★★) \n",
        "(**hint**: stride\\_tricks.as\\_strided)"
      ]
    },
    {
      "cell_type": "code",
      "execution_count": 28,
      "metadata": {
        "id": "HZd2_sycprmn",
        "colab": {
          "base_uri": "https://localhost:8080/"
        },
        "outputId": "f0da9a80-34f4-4da0-e095-9ee29c118dc7"
      },
      "outputs": [
        {
          "output_type": "stream",
          "name": "stdout",
          "text": [
            "[[[[4 4 0]\n",
            "   [4 0 1]\n",
            "   [4 4 2]]\n",
            "\n",
            "  [[4 0 2]\n",
            "   [0 1 3]\n",
            "   [4 2 3]]\n",
            "\n",
            "  [[0 2 2]\n",
            "   [1 3 3]\n",
            "   [2 3 3]]\n",
            "\n",
            "  [[2 2 0]\n",
            "   [3 3 1]\n",
            "   [3 3 3]]\n",
            "\n",
            "  [[2 0 4]\n",
            "   [3 1 4]\n",
            "   [3 3 3]]\n",
            "\n",
            "  [[0 4 1]\n",
            "   [1 4 3]\n",
            "   [3 3 4]]\n",
            "\n",
            "  [[4 1 3]\n",
            "   [4 3 2]\n",
            "   [3 4 4]]\n",
            "\n",
            "  [[1 3 3]\n",
            "   [3 2 1]\n",
            "   [4 4 4]]]\n",
            "\n",
            "\n",
            " [[[4 0 1]\n",
            "   [4 4 2]\n",
            "   [2 0 0]]\n",
            "\n",
            "  [[0 1 3]\n",
            "   [4 2 3]\n",
            "   [0 0 4]]\n",
            "\n",
            "  [[1 3 3]\n",
            "   [2 3 3]\n",
            "   [0 4 3]]\n",
            "\n",
            "  [[3 3 1]\n",
            "   [3 3 3]\n",
            "   [4 3 2]]\n",
            "\n",
            "  [[3 1 4]\n",
            "   [3 3 3]\n",
            "   [3 2 4]]\n",
            "\n",
            "  [[1 4 3]\n",
            "   [3 3 4]\n",
            "   [2 4 3]]\n",
            "\n",
            "  [[4 3 2]\n",
            "   [3 4 4]\n",
            "   [4 3 2]]\n",
            "\n",
            "  [[3 2 1]\n",
            "   [4 4 4]\n",
            "   [3 2 4]]]\n",
            "\n",
            "\n",
            " [[[4 4 2]\n",
            "   [2 0 0]\n",
            "   [0 3 4]]\n",
            "\n",
            "  [[4 2 3]\n",
            "   [0 0 4]\n",
            "   [3 4 3]]\n",
            "\n",
            "  [[2 3 3]\n",
            "   [0 4 3]\n",
            "   [4 3 2]]\n",
            "\n",
            "  [[3 3 3]\n",
            "   [4 3 2]\n",
            "   [3 2 0]]\n",
            "\n",
            "  [[3 3 3]\n",
            "   [3 2 4]\n",
            "   [2 0 0]]\n",
            "\n",
            "  [[3 3 4]\n",
            "   [2 4 3]\n",
            "   [0 0 2]]\n",
            "\n",
            "  [[3 4 4]\n",
            "   [4 3 2]\n",
            "   [0 2 2]]\n",
            "\n",
            "  [[4 4 4]\n",
            "   [3 2 4]\n",
            "   [2 2 0]]]\n",
            "\n",
            "\n",
            " [[[2 0 0]\n",
            "   [0 3 4]\n",
            "   [0 2 3]]\n",
            "\n",
            "  [[0 0 4]\n",
            "   [3 4 3]\n",
            "   [2 3 3]]\n",
            "\n",
            "  [[0 4 3]\n",
            "   [4 3 2]\n",
            "   [3 3 0]]\n",
            "\n",
            "  [[4 3 2]\n",
            "   [3 2 0]\n",
            "   [3 0 2]]\n",
            "\n",
            "  [[3 2 4]\n",
            "   [2 0 0]\n",
            "   [0 2 0]]\n",
            "\n",
            "  [[2 4 3]\n",
            "   [0 0 2]\n",
            "   [2 0 3]]\n",
            "\n",
            "  [[4 3 2]\n",
            "   [0 2 2]\n",
            "   [0 3 3]]\n",
            "\n",
            "  [[3 2 4]\n",
            "   [2 2 0]\n",
            "   [3 3 1]]]\n",
            "\n",
            "\n",
            " [[[0 3 4]\n",
            "   [0 2 3]\n",
            "   [2 1 1]]\n",
            "\n",
            "  [[3 4 3]\n",
            "   [2 3 3]\n",
            "   [1 1 0]]\n",
            "\n",
            "  [[4 3 2]\n",
            "   [3 3 0]\n",
            "   [1 0 0]]\n",
            "\n",
            "  [[3 2 0]\n",
            "   [3 0 2]\n",
            "   [0 0 3]]\n",
            "\n",
            "  [[2 0 0]\n",
            "   [0 2 0]\n",
            "   [0 3 0]]\n",
            "\n",
            "  [[0 0 2]\n",
            "   [2 0 3]\n",
            "   [3 0 0]]\n",
            "\n",
            "  [[0 2 2]\n",
            "   [0 3 3]\n",
            "   [0 0 0]]\n",
            "\n",
            "  [[2 2 0]\n",
            "   [3 3 1]\n",
            "   [0 0 3]]]\n",
            "\n",
            "\n",
            " [[[0 2 3]\n",
            "   [2 1 1]\n",
            "   [4 0 0]]\n",
            "\n",
            "  [[2 3 3]\n",
            "   [1 1 0]\n",
            "   [0 0 2]]\n",
            "\n",
            "  [[3 3 0]\n",
            "   [1 0 0]\n",
            "   [0 2 1]]\n",
            "\n",
            "  [[3 0 2]\n",
            "   [0 0 3]\n",
            "   [2 1 4]]\n",
            "\n",
            "  [[0 2 0]\n",
            "   [0 3 0]\n",
            "   [1 4 1]]\n",
            "\n",
            "  [[2 0 3]\n",
            "   [3 0 0]\n",
            "   [4 1 4]]\n",
            "\n",
            "  [[0 3 3]\n",
            "   [0 0 0]\n",
            "   [1 4 1]]\n",
            "\n",
            "  [[3 3 1]\n",
            "   [0 0 3]\n",
            "   [4 1 0]]]\n",
            "\n",
            "\n",
            " [[[2 1 1]\n",
            "   [4 0 0]\n",
            "   [4 0 2]]\n",
            "\n",
            "  [[1 1 0]\n",
            "   [0 0 2]\n",
            "   [0 2 1]]\n",
            "\n",
            "  [[1 0 0]\n",
            "   [0 2 1]\n",
            "   [2 1 3]]\n",
            "\n",
            "  [[0 0 3]\n",
            "   [2 1 4]\n",
            "   [1 3 4]]\n",
            "\n",
            "  [[0 3 0]\n",
            "   [1 4 1]\n",
            "   [3 4 0]]\n",
            "\n",
            "  [[3 0 0]\n",
            "   [4 1 4]\n",
            "   [4 0 3]]\n",
            "\n",
            "  [[0 0 0]\n",
            "   [1 4 1]\n",
            "   [0 3 2]]\n",
            "\n",
            "  [[0 0 3]\n",
            "   [4 1 0]\n",
            "   [3 2 2]]]\n",
            "\n",
            "\n",
            " [[[4 0 0]\n",
            "   [4 0 2]\n",
            "   [4 2 1]]\n",
            "\n",
            "  [[0 0 2]\n",
            "   [0 2 1]\n",
            "   [2 1 2]]\n",
            "\n",
            "  [[0 2 1]\n",
            "   [2 1 3]\n",
            "   [1 2 4]]\n",
            "\n",
            "  [[2 1 4]\n",
            "   [1 3 4]\n",
            "   [2 4 1]]\n",
            "\n",
            "  [[1 4 1]\n",
            "   [3 4 0]\n",
            "   [4 1 4]]\n",
            "\n",
            "  [[4 1 4]\n",
            "   [4 0 3]\n",
            "   [1 4 4]]\n",
            "\n",
            "  [[1 4 1]\n",
            "   [0 3 2]\n",
            "   [4 4 0]]\n",
            "\n",
            "  [[4 1 0]\n",
            "   [3 2 2]\n",
            "   [4 0 1]]]]\n"
          ]
        }
      ],
      "source": [
        "Z = np.random.randint(0,5,(10,10))\n",
        "print(sliding_window_view(Z, window_shape=(3, 3)))"
      ]
    },
    {
      "cell_type": "markdown",
      "metadata": {
        "id": "GYh5QU9Dprmn"
      },
      "source": [
        "#### 85. Create a 2D array subclass such that Z\\[i,j\\] == Z\\[j,i\\] (★★★) \n",
        "(**hint**: class method)"
      ]
    },
    {
      "cell_type": "code",
      "execution_count": 50,
      "metadata": {
        "id": "Iyzrg60Bprmn",
        "colab": {
          "base_uri": "https://localhost:8080/"
        },
        "outputId": "707131ed-3911-4288-a68c-17f09d135878"
      },
      "outputs": [
        {
          "output_type": "stream",
          "name": "stdout",
          "text": [
            "[[ 0 16  8  9 16]\n",
            " [16  4 15  9 18]\n",
            " [ 8 15  4 42  5]\n",
            " [ 9  9 42  7  4]\n",
            " [16 18  5  4  0]]\n"
          ]
        }
      ],
      "source": [
        "class Symetric(np.ndarray):\n",
        "    def __setitem__(self, index, value):\n",
        "        i,j = index\n",
        "        super(Symetric, self).__setitem__((i,j), value)\n",
        "        super(Symetric, self).__setitem__((j,i), value)\n",
        "\n",
        "def symetric(Z):\n",
        "    return np.asarray(Z + Z.T - np.diag(Z.diagonal())).view(Symetric)\n",
        "\n",
        "S = symetric(np.random.randint(0,10,(5,5)))\n",
        "S[2,3] = 42\n",
        "print(S)"
      ]
    },
    {
      "cell_type": "markdown",
      "metadata": {
        "id": "uHwEcb3kprmo"
      },
      "source": [
        "#### 86. Consider a set of p matrices wich shape (n,n) and a set of p vectors with shape (n,1). How to compute the sum of of the p matrix products at once? (result has shape (n,1)) (★★★) \n",
        "(**hint**: np.tensordot)"
      ]
    },
    {
      "cell_type": "code",
      "execution_count": 49,
      "metadata": {
        "id": "gDUq0i2lprmo",
        "colab": {
          "base_uri": "https://localhost:8080/"
        },
        "outputId": "703389a1-821a-4cdd-ccd1-791b25125a37"
      },
      "outputs": [
        {
          "output_type": "stream",
          "name": "stdout",
          "text": [
            "[[200.]\n",
            " [200.]\n",
            " [200.]\n",
            " [200.]\n",
            " [200.]\n",
            " [200.]\n",
            " [200.]\n",
            " [200.]\n",
            " [200.]\n",
            " [200.]\n",
            " [200.]\n",
            " [200.]\n",
            " [200.]\n",
            " [200.]\n",
            " [200.]\n",
            " [200.]\n",
            " [200.]\n",
            " [200.]\n",
            " [200.]\n",
            " [200.]]\n"
          ]
        }
      ],
      "source": [
        "p, n = 10, 20\n",
        "M = np.ones((p,n,n))\n",
        "V = np.ones((p,n,1))\n",
        "S = np.tensordot(M, V, axes=[[0, 2], [0, 1]])\n",
        "print(S)"
      ]
    },
    {
      "cell_type": "markdown",
      "metadata": {
        "id": "1W7IlKG7prmo"
      },
      "source": [
        "#### 87. Consider a 16x16 array, how to get the block-sum (block size is 4x4)? (★★★) \n",
        "(**hint**: np.add.reduceat)"
      ]
    },
    {
      "cell_type": "code",
      "execution_count": 48,
      "metadata": {
        "id": "3SfSaZnJprmo",
        "colab": {
          "base_uri": "https://localhost:8080/"
        },
        "outputId": "d56627e3-3530-444a-f549-c60fde4054c6"
      },
      "outputs": [
        {
          "output_type": "stream",
          "name": "stdout",
          "text": [
            "[[16. 16. 16. 16.]\n",
            " [16. 16. 16. 16.]\n",
            " [16. 16. 16. 16.]\n",
            " [16. 16. 16. 16.]]\n"
          ]
        }
      ],
      "source": [
        "Z = np.ones((16,16))\n",
        "k = 4\n",
        "S = np.add.reduceat(np.add.reduceat(Z, np.arange(0, Z.shape[0], k), axis=0),\n",
        "                                       np.arange(0, Z.shape[1], k), axis=1)\n",
        "print(S)\n",
        "\n"
      ]
    },
    {
      "cell_type": "markdown",
      "metadata": {
        "id": "1VB2uWEPprmo"
      },
      "source": [
        "#### 88. How to implement the Game of Life using numpy arrays? (★★★)"
      ]
    },
    {
      "cell_type": "code",
      "execution_count": 45,
      "metadata": {
        "id": "70_lOOFLprmp",
        "colab": {
          "base_uri": "https://localhost:8080/"
        },
        "outputId": "19dd4b50-142a-4016-c863-901d026a9df0"
      },
      "outputs": [
        {
          "output_type": "stream",
          "name": "stdout",
          "text": [
            "[[0 0 0 ... 0 0 0]\n",
            " [0 0 0 ... 0 0 0]\n",
            " [0 0 0 ... 0 0 0]\n",
            " ...\n",
            " [0 0 0 ... 0 0 0]\n",
            " [0 0 0 ... 0 0 0]\n",
            " [0 0 0 ... 0 0 0]]\n"
          ]
        }
      ],
      "source": [
        "def iterate(Z):\n",
        "    # Count neighbours\n",
        "    N = (Z[0:-2,0:-2] + Z[0:-2,1:-1] + Z[0:-2,2:] +\n",
        "         Z[1:-1,0:-2]                + Z[1:-1,2:] +\n",
        "         Z[2:  ,0:-2] + Z[2:  ,1:-1] + Z[2:  ,2:])\n",
        "\n",
        "    # Apply rules\n",
        "    birth = (N==3) & (Z[1:-1,1:-1]==0)\n",
        "    survive = ((N==2) | (N==3)) & (Z[1:-1,1:-1]==1)\n",
        "    Z[...] = 0\n",
        "    Z[1:-1,1:-1][birth | survive] = 1\n",
        "    return Z\n",
        "\n",
        "Z = np.random.randint(0,2,(50,50))\n",
        "for i in range(100): Z = iterate(Z)\n",
        "print(Z)"
      ]
    },
    {
      "cell_type": "markdown",
      "metadata": {
        "id": "OaTFuL8Bprmp"
      },
      "source": [
        "#### 89. How to get the n largest values of an array (★★★) \n",
        "(**hint**: np.argsort | np.argpartition)"
      ]
    },
    {
      "cell_type": "code",
      "execution_count": 44,
      "metadata": {
        "id": "sFYU-oNWprmp",
        "colab": {
          "base_uri": "https://localhost:8080/"
        },
        "outputId": "099230a0-3249-46fc-f7c8-7cc168a7942e"
      },
      "outputs": [
        {
          "output_type": "stream",
          "name": "stdout",
          "text": [
            "[9995 9996 9997 9998 9999]\n",
            "[9999 9997 9998 9995 9996]\n"
          ]
        }
      ],
      "source": [
        "Z = np.arange(10000)\n",
        "np.random.shuffle(Z)\n",
        "n = 5\n",
        "\n",
        "# Slow\n",
        "print (Z[np.argsort(Z)[-n:]])\n",
        "\n",
        "# Fast\n",
        "print (Z[np.argpartition(-Z,n)[:n]])"
      ]
    },
    {
      "cell_type": "markdown",
      "metadata": {
        "id": "RjAOEHxSprmp"
      },
      "source": [
        "#### 90. Given an arbitrary number of vectors, build the cartesian product (every combinations of every item) (★★★) \n",
        "(**hint**: np.indices)"
      ]
    },
    {
      "cell_type": "code",
      "execution_count": 42,
      "metadata": {
        "scrolled": true,
        "id": "LY8X0Tsyprmp",
        "colab": {
          "base_uri": "https://localhost:8080/"
        },
        "outputId": "53cb4887-db52-48e0-fb3e-c5241e73c2e7"
      },
      "outputs": [
        {
          "output_type": "stream",
          "name": "stdout",
          "text": [
            "[[1 4 6]\n",
            " [1 4 7]\n",
            " [1 5 6]\n",
            " [1 5 7]\n",
            " [2 4 6]\n",
            " [2 4 7]\n",
            " [2 5 6]\n",
            " [2 5 7]\n",
            " [3 4 6]\n",
            " [3 4 7]\n",
            " [3 5 6]\n",
            " [3 5 7]]\n"
          ]
        }
      ],
      "source": [
        "def cartesian(arrays):\n",
        "    arrays = [np.asarray(a) for a in arrays]\n",
        "    shape = (len(x) for x in arrays)\n",
        "\n",
        "    ix = np.indices(shape, dtype=int)\n",
        "    ix = ix.reshape(len(arrays), -1).T\n",
        "\n",
        "    for n, arr in enumerate(arrays):\n",
        "        ix[:, n] = arrays[n][ix[:, n]]\n",
        "\n",
        "    return ix\n",
        "\n",
        "print (cartesian(([1, 2, 3], [4, 5], [6, 7])))"
      ]
    },
    {
      "cell_type": "markdown",
      "metadata": {
        "id": "CNlzomjcprmq"
      },
      "source": [
        "#### 91. How to create a record array from a regular array? (★★★) \n",
        "(**hint**: np.core.records.fromarrays)"
      ]
    },
    {
      "cell_type": "code",
      "execution_count": 41,
      "metadata": {
        "id": "ON7mprkiprmq",
        "colab": {
          "base_uri": "https://localhost:8080/"
        },
        "outputId": "6425e0aa-de73-4b7e-8eab-9045be89b636"
      },
      "outputs": [
        {
          "output_type": "stream",
          "name": "stdout",
          "text": [
            "[(b'Hello', 2.5, 3) (b'World', 3.6, 2)]\n"
          ]
        }
      ],
      "source": [
        "Z = np.array([(\"Hello\", 2.5, 3),\n",
        "              (\"World\", 3.6, 2)])\n",
        "R = np.core.records.fromarrays(Z.T,\n",
        "                               names='col1, col2, col3',\n",
        "                               formats = 'S8, f8, i8')\n",
        "print(R)"
      ]
    },
    {
      "cell_type": "markdown",
      "metadata": {
        "id": "IUHd89yhprmq"
      },
      "source": [
        "#### 92. Consider a large vector Z, compute Z to the power of 3 using 3 different methods (★★★) \n",
        "(**hint**: np.power, \\*, np.einsum)"
      ]
    },
    {
      "cell_type": "code",
      "execution_count": 40,
      "metadata": {
        "id": "uXbvwNKQprmq",
        "colab": {
          "base_uri": "https://localhost:8080/"
        },
        "outputId": "02b09e13-a7fa-4846-a05f-c951470d7296"
      },
      "outputs": [
        {
          "output_type": "stream",
          "name": "stdout",
          "text": [
            "2.58 s ± 7.23 ms per loop (mean ± std. dev. of 7 runs, 1 loop each)\n",
            "74.8 ms ± 4.8 ms per loop (mean ± std. dev. of 7 runs, 10 loops each)\n",
            "67.2 ms ± 8.39 ms per loop (mean ± std. dev. of 7 runs, 10 loops each)\n"
          ]
        }
      ],
      "source": [
        "x = np.random.rand(int(5e7))\n",
        "\n",
        "%timeit np.power(x,3)\n",
        "%timeit x*x*x\n",
        "%timeit np.einsum('i,i,i->i',x,x,x)"
      ]
    },
    {
      "cell_type": "markdown",
      "metadata": {
        "id": "z1ilegmDprmq"
      },
      "source": [
        "#### 93. Consider two arrays A and B of shape (8,3) and (2,2). How to find rows of A that contain elements of each row of B regardless of the order of the elements in B? (★★★) \n",
        "(**hint**: np.where)"
      ]
    },
    {
      "cell_type": "code",
      "execution_count": 39,
      "metadata": {
        "id": "I9KN9fYHprmr",
        "colab": {
          "base_uri": "https://localhost:8080/"
        },
        "outputId": "1b6d2ba4-2cd9-412e-abc5-a132d0b037a4"
      },
      "outputs": [
        {
          "output_type": "stream",
          "name": "stdout",
          "text": [
            "[]\n"
          ]
        }
      ],
      "source": [
        "A = np.random.randint(0,5,(8,3))\n",
        "B = np.random.randint(0,5,(2,2))\n",
        "\n",
        "C = (A[..., np.newaxis, np.newaxis] == B)\n",
        "rows = np.where(C.any((3,1)).all(1))[0]\n",
        "print(rows)"
      ]
    },
    {
      "cell_type": "markdown",
      "metadata": {
        "id": "87hDKDgZprmr"
      },
      "source": [
        "#### 94. Considering a 10x3 matrix, extract rows with unequal values (e.g. \\[2,2,3\\]) (★★★)"
      ]
    },
    {
      "cell_type": "code",
      "execution_count": 38,
      "metadata": {
        "id": "JsV_5wo2prmr",
        "colab": {
          "base_uri": "https://localhost:8080/"
        },
        "outputId": "2045acf9-2ad1-4925-c9ae-ec87a121e6e4"
      },
      "outputs": [
        {
          "output_type": "stream",
          "name": "stdout",
          "text": [
            "[[1 1 2]\n",
            " [1 2 3]\n",
            " [0 3 0]\n",
            " [0 1 3]\n",
            " [3 3 3]\n",
            " [2 3 2]\n",
            " [4 3 1]\n",
            " [4 2 3]\n",
            " [1 1 0]\n",
            " [4 4 2]]\n",
            "[[1 1 2]\n",
            " [1 2 3]\n",
            " [0 3 0]\n",
            " [0 1 3]\n",
            " [2 3 2]\n",
            " [4 3 1]\n",
            " [4 2 3]\n",
            " [1 1 0]\n",
            " [4 4 2]]\n",
            "[[1 1 2]\n",
            " [1 2 3]\n",
            " [0 3 0]\n",
            " [0 1 3]\n",
            " [2 3 2]\n",
            " [4 3 1]\n",
            " [4 2 3]\n",
            " [1 1 0]\n",
            " [4 4 2]]\n"
          ]
        }
      ],
      "source": [
        "Z = np.random.randint(0,5,(10,3))\n",
        "print(Z)\n",
        "E = np.all(Z[:,1:] == Z[:,:-1], axis=1)\n",
        "U = Z[~E]\n",
        "print(U)\n",
        "U = Z[Z.max(axis=1) != Z.min(axis=1),:]\n",
        "print(U)"
      ]
    },
    {
      "cell_type": "markdown",
      "metadata": {
        "id": "QFTTDKiTprmr"
      },
      "source": [
        "#### 95. Convert a vector of ints into a matrix binary representation (★★★) \n",
        "(**hint**: np.unpackbits)"
      ]
    },
    {
      "cell_type": "code",
      "execution_count": 37,
      "metadata": {
        "id": "yfUqno5rprms",
        "colab": {
          "base_uri": "https://localhost:8080/"
        },
        "outputId": "e3d59384-2ce5-4dcb-94ac-0a8cc41a917d"
      },
      "outputs": [
        {
          "output_type": "stream",
          "name": "stdout",
          "text": [
            "[[0 0 0 0 0 0 0 0]\n",
            " [0 0 0 0 0 0 0 1]\n",
            " [0 0 0 0 0 0 1 0]\n",
            " [0 0 0 0 0 0 1 1]\n",
            " [0 0 0 0 1 1 1 1]\n",
            " [0 0 0 1 0 0 0 0]\n",
            " [0 0 1 0 0 0 0 0]\n",
            " [0 1 0 0 0 0 0 0]\n",
            " [1 0 0 0 0 0 0 0]]\n",
            "[[0 0 0 0 0 0 0 0]\n",
            " [0 0 0 0 0 0 0 1]\n",
            " [0 0 0 0 0 0 1 0]\n",
            " [0 0 0 0 0 0 1 1]\n",
            " [0 0 0 0 1 1 1 1]\n",
            " [0 0 0 1 0 0 0 0]\n",
            " [0 0 1 0 0 0 0 0]\n",
            " [0 1 0 0 0 0 0 0]\n",
            " [1 0 0 0 0 0 0 0]]\n"
          ]
        }
      ],
      "source": [
        "I = np.array([0, 1, 2, 3, 15, 16, 32, 64, 128])\n",
        "B = ((I.reshape(-1,1) & (2**np.arange(8))) != 0).astype(int)\n",
        "print(B[:,::-1])\n",
        "\n",
        "\n",
        "I = np.array([0, 1, 2, 3, 15, 16, 32, 64, 128], dtype=np.uint8)\n",
        "print(np.unpackbits(I[:, np.newaxis], axis=1))"
      ]
    },
    {
      "cell_type": "markdown",
      "metadata": {
        "id": "tJI1FOjOprms"
      },
      "source": [
        "#### 96. Given a two dimensional array, how to extract unique rows? (★★★) \n",
        "(**hint**: np.ascontiguousarray)"
      ]
    },
    {
      "cell_type": "code",
      "execution_count": 35,
      "metadata": {
        "id": "aT6w1SUhprms",
        "colab": {
          "base_uri": "https://localhost:8080/"
        },
        "outputId": "99ab9c9b-072a-4624-a971-55a81f78f6df"
      },
      "outputs": [
        {
          "output_type": "stream",
          "name": "stdout",
          "text": [
            "[[0 0 0]\n",
            " [0 0 1]\n",
            " [0 1 1]\n",
            " [1 0 0]\n",
            " [1 0 1]\n",
            " [1 1 0]]\n",
            "**********\n",
            "[[0 0 0]\n",
            " [0 0 1]\n",
            " [0 1 1]\n",
            " [1 0 0]\n",
            " [1 0 1]\n",
            " [1 1 0]]\n"
          ]
        }
      ],
      "source": [
        "Z = np.random.randint(0,2,(6,3))\n",
        "T = np.ascontiguousarray(Z).view(np.dtype((np.void, Z.dtype.itemsize * Z.shape[1])))\n",
        "_, idx = np.unique(T, return_index=True)\n",
        "uZ = Z[idx]\n",
        "\n",
        "print(uZ)\n",
        "print(\"*\"*10)\n",
        "uZ = np.unique(Z, axis=0)\n",
        "print(uZ)"
      ]
    },
    {
      "cell_type": "markdown",
      "metadata": {
        "id": "z-QCa4aSprms"
      },
      "source": [
        "#### 97. Considering 2 vectors A & B, write the einsum equivalent of inner, outer, sum, and mul function (★★★) \n",
        "(**hint**: np.einsum)"
      ]
    },
    {
      "cell_type": "code",
      "execution_count": 27,
      "metadata": {
        "id": "otBTsAbqprms",
        "colab": {
          "base_uri": "https://localhost:8080/"
        },
        "outputId": "743709ea-70a2-4870-aae4-a34bc6d888bc"
      },
      "outputs": [
        {
          "output_type": "execute_result",
          "data": {
            "text/plain": [
              "array([[0.13048006, 0.14573248, 0.07054899, 0.11935234, 0.17893786,\n",
              "        0.01445263, 0.0992271 , 0.09794414, 0.1197753 , 0.08351998],\n",
              "       [0.05839566, 0.0652218 , 0.03157383, 0.05341551, 0.0800827 ,\n",
              "        0.0064682 , 0.04440856, 0.04383438, 0.0536048 , 0.03737892],\n",
              "       [0.46498797, 0.51934257, 0.25141335, 0.42533241, 0.63767561,\n",
              "        0.05150443, 0.3536127 , 0.34904064, 0.42683972, 0.29763768],\n",
              "       [0.22549599, 0.25185526, 0.12192294, 0.20626502, 0.30924089,\n",
              "        0.02497708, 0.17148453, 0.16926731, 0.20699599, 0.14433944],\n",
              "       [0.16757465, 0.18716322, 0.09060558, 0.15328338, 0.22980866,\n",
              "        0.01856142, 0.12743668, 0.12578898, 0.15382659, 0.10726413],\n",
              "       [0.06935002, 0.07745666, 0.03749671, 0.06343564, 0.09510529,\n",
              "        0.00768156, 0.0527391 , 0.05205721, 0.06366045, 0.04439078],\n",
              "       [0.33536302, 0.37456516, 0.18132671, 0.30676226, 0.45991043,\n",
              "        0.03714651, 0.25503589, 0.25173839, 0.30784938, 0.21466506],\n",
              "       [0.21690198, 0.24225666, 0.11727627, 0.19840394, 0.29745523,\n",
              "        0.02402516, 0.16494899, 0.16281627, 0.19910705, 0.13883844],\n",
              "       [0.03522326, 0.03934067, 0.01904479, 0.03221931, 0.0483045 ,\n",
              "        0.00390151, 0.02678648, 0.02644014, 0.03233349, 0.02254632],\n",
              "       [0.01475082, 0.01647511, 0.00797559, 0.01349283, 0.02022899,\n",
              "        0.00163388, 0.01121766, 0.01107262, 0.01354064, 0.00944197]])"
            ]
          },
          "metadata": {},
          "execution_count": 27
        }
      ],
      "source": [
        "A = np.random.uniform(0,1,10)\n",
        "B = np.random.uniform(0,1,10)\n",
        "\n",
        "np.einsum('i->', A)       # np.sum(A)\n",
        "np.einsum('i,i->i', A, B) # A * B\n",
        "np.einsum('i,i', A, B)    # np.inner(A, B)\n",
        "np.einsum('i,j->ij', A, B)    # np.outer(A, B)"
      ]
    },
    {
      "cell_type": "markdown",
      "metadata": {
        "id": "h8w0Lfgoprms"
      },
      "source": [
        "#### 98. Considering a path described by two vectors (X,Y), how to sample it using equidistant samples (★★★)? \n",
        "(**hint**: np.cumsum, np.interp)"
      ]
    },
    {
      "cell_type": "code",
      "execution_count": 25,
      "metadata": {
        "collapsed": true,
        "id": "ASHf1LEDprmv"
      },
      "outputs": [],
      "source": [
        "phi = np.arange(0, 10*np.pi, 0.1)\n",
        "a = 1\n",
        "x = a*phi*np.cos(phi)\n",
        "y = a*phi*np.sin(phi)\n",
        "\n",
        "dr = (np.diff(x)**2 + np.diff(y)**2)**.5 # segment lengths\n",
        "r = np.zeros_like(x)\n",
        "r[1:] = np.cumsum(dr)                # integrate path\n",
        "r_int = np.linspace(0, r.max(), 200) # regular spaced path\n",
        "x_int = np.interp(r_int, r, x)       # integrate path\n",
        "y_int = np.interp(r_int, r, y)"
      ]
    },
    {
      "cell_type": "markdown",
      "metadata": {
        "id": "CZbOqYdPprmv"
      },
      "source": [
        "#### 99. Given an integer n and a 2D array X, select from X the rows which can be interpreted as draws from a multinomial distribution with n degrees, i.e., the rows which only contain integers and which sum to n. (★★★) \n",
        "(**hint**: np.logical\\_and.reduce, np.mod)"
      ]
    },
    {
      "cell_type": "code",
      "execution_count": 23,
      "metadata": {
        "id": "ZPxy18Mjprmv",
        "colab": {
          "base_uri": "https://localhost:8080/"
        },
        "outputId": "27abfdc2-9c3b-4d94-f4e1-a5b3aad992e9"
      },
      "outputs": [
        {
          "output_type": "stream",
          "name": "stdout",
          "text": [
            "[[2. 0. 1. 1.]]\n"
          ]
        }
      ],
      "source": [
        "X = np.asarray([[1.0, 0.0, 3.0, 8.0],\n",
        "                [2.0, 0.0, 1.0, 1.0],\n",
        "                [1.5, 2.5, 1.0, 0.0]])\n",
        "n = 4\n",
        "M = np.logical_and.reduce(np.mod(X, 1) == 0, axis=-1)\n",
        "M &= (X.sum(axis=-1) == n)\n",
        "print(X[M])"
      ]
    },
    {
      "cell_type": "markdown",
      "metadata": {
        "id": "IwUE-qlRprmv"
      },
      "source": [
        "#### 100. Compute bootstrapped 95% confidence intervals for the mean of a 1D array X (i.e., resample the elements of an array with replacement N times, compute the mean of each sample, and then compute percentiles over the means). (★★★) \n",
        "(**hint**: np.percentile)"
      ]
    },
    {
      "cell_type": "code",
      "execution_count": 22,
      "metadata": {
        "id": "H7EwgVWHprmx",
        "colab": {
          "base_uri": "https://localhost:8080/"
        },
        "outputId": "260280ec-e1ea-4173-9c29-14029cd30db5"
      },
      "outputs": [
        {
          "output_type": "stream",
          "name": "stdout",
          "text": [
            "[-0.12066714  0.240795  ]\n"
          ]
        }
      ],
      "source": [
        "X = np.random.randn(100) # random 1D array\n",
        "N = 1000 # number of bootstrap samples\n",
        "idx = np.random.randint(0, X.size, (N, X.size))\n",
        "means = X[idx].mean(axis=1)\n",
        "confint = np.percentile(means, [2.5, 97.5])\n",
        "print(confint)"
      ]
    }
  ],
  "metadata": {
    "kernelspec": {
      "display_name": "Python 3",
      "language": "python",
      "name": "python3"
    },
    "language_info": {
      "codemirror_mode": {
        "name": "ipython",
        "version": 3
      },
      "file_extension": ".py",
      "mimetype": "text/x-python",
      "name": "python",
      "nbconvert_exporter": "python",
      "pygments_lexer": "ipython3",
      "version": "3.8.3"
    },
    "colab": {
      "provenance": [],
      "collapsed_sections": [
        "jUuLISIIprmB",
        "p9raBTMoprmC",
        "oG3hP3V2prmC",
        "WDalGU0BprmD",
        "xdIkOBiFprmD",
        "ni0Zh6MDprmD",
        "2s071R2rprmE",
        "088xMrlcprmE",
        "OUdv7VwCprmG",
        "Va7eOZcmprmI",
        "YCLBkKmVprmJ",
        "wQ5b37HAprmK",
        "BBXjdNcaprmK",
        "atT3vK43prmK",
        "kvgFl5HHprmL",
        "3CN0Sy2cprmL",
        "LbBJ68bZprmL",
        "BwnM8kTNprmM",
        "3kcgqOdqprmN",
        "hlHROi1LprmN",
        "-1OMm8jKprmN",
        "COhGEUQqprmO",
        "VvKBJQtAprmO",
        "94j-tTiPprmP",
        "ZpST8iXSprmP",
        "rCcfuIqqprmP",
        "Px369XYzprmQ",
        "ajbqL0B4prmQ",
        "uod6kEyBprmS",
        "nbMSS5vWprmS",
        "WChOJqHRprmT",
        "GiFhFKzEprmT",
        "7tRt4Xv9prmU",
        "tD1XuS2SprmU",
        "1-9yVb19prmU",
        "xjyCySKeprmU",
        "nOCcxpzvprmV",
        "M9-mjZYxprmV",
        "PodzZr3RprmV",
        "wax5SUY4prmW",
        "l6YzjkfVprmW",
        "cyoUtES5prmW",
        "jOa5lmTnprmX",
        "IXgUWRP5prmX",
        "CP5ZMIkeprmY",
        "lTVCwYE_prmY",
        "8QXUw66JprmY"
      ],
      "include_colab_link": true
    }
  },
  "nbformat": 4,
  "nbformat_minor": 0
}