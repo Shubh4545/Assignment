{
  "nbformat": 4,
  "nbformat_minor": 0,
  "metadata": {
    "colab": {
      "provenance": [],
      "authorship_tag": "ABX9TyNM6TZLK3cqOllHbzXLt6Up",
      "include_colab_link": true
    },
    "kernelspec": {
      "name": "python3",
      "display_name": "Python 3"
    },
    "language_info": {
      "name": "python"
    }
  },
  "cells": [
    {
      "cell_type": "markdown",
      "metadata": {
        "id": "view-in-github",
        "colab_type": "text"
      },
      "source": [
        "<a href=\"https://colab.research.google.com/github/Shubh4545/Assignment/blob/main/Chatbot.ipynb\" target=\"_parent\"><img src=\"https://colab.research.google.com/assets/colab-badge.svg\" alt=\"Open In Colab\"/></a>"
      ]
    },
    {
      "cell_type": "code",
      "execution_count": null,
      "metadata": {
        "colab": {
          "base_uri": "https://localhost:8080/",
          "height": 487
        },
        "id": "_fsqNcZ9ksW2",
        "outputId": "bb5052d2-b1c6-408b-eda7-2715b46187dd"
      },
      "outputs": [
        {
          "name": "stdout",
          "output_type": "stream",
          "text": [
            "Enter your name: shubham\n",
            "Enter your mobile number: 77664\n",
            "Enter your address: hfhggjhg\n",
            "Enter your ID proof number: jfhjgj\n",
            "Enter your preferred room type: 1\n",
            "Enter your arrival date (YYYY-MM-DD): 2023-02-15\n",
            "Enter your departure date (YYYY-MM-DD): 2023-02-16\n"
          ]
        },
        {
          "output_type": "error",
          "ename": "KeyError",
          "evalue": "ignored",
          "traceback": [
            "\u001b[0;31m---------------------------------------------------------------------------\u001b[0m",
            "\u001b[0;31mKeyError\u001b[0m                                  Traceback (most recent call last)",
            "\u001b[0;32m<ipython-input-4-b2c86bff812f>\u001b[0m in \u001b[0;36m<module>\u001b[0;34m\u001b[0m\n\u001b[1;32m     60\u001b[0m \u001b[0;34m\u001b[0m\u001b[0m\n\u001b[1;32m     61\u001b[0m \u001b[0;32mif\u001b[0m \u001b[0m__name__\u001b[0m \u001b[0;34m==\u001b[0m \u001b[0;34m\"__main__\"\u001b[0m\u001b[0;34m:\u001b[0m\u001b[0;34m\u001b[0m\u001b[0;34m\u001b[0m\u001b[0m\n\u001b[0;32m---> 62\u001b[0;31m     \u001b[0mrun_chatbot\u001b[0m\u001b[0;34m(\u001b[0m\u001b[0;34m)\u001b[0m\u001b[0;34m\u001b[0m\u001b[0;34m\u001b[0m\u001b[0m\n\u001b[0m",
            "\u001b[0;32m<ipython-input-4-b2c86bff812f>\u001b[0m in \u001b[0;36mrun_chatbot\u001b[0;34m()\u001b[0m\n\u001b[1;32m     56\u001b[0m \u001b[0;32mdef\u001b[0m \u001b[0mrun_chatbot\u001b[0m\u001b[0;34m(\u001b[0m\u001b[0;34m)\u001b[0m\u001b[0;34m:\u001b[0m\u001b[0;34m\u001b[0m\u001b[0;34m\u001b[0m\u001b[0m\n\u001b[1;32m     57\u001b[0m     \u001b[0mcustomer_details\u001b[0m \u001b[0;34m=\u001b[0m \u001b[0mcollect_customer_details\u001b[0m\u001b[0;34m(\u001b[0m\u001b[0;34m)\u001b[0m\u001b[0;34m\u001b[0m\u001b[0;34m\u001b[0m\u001b[0m\n\u001b[0;32m---> 58\u001b[0;31m     \u001b[0mbook_room\u001b[0m\u001b[0;34m(\u001b[0m\u001b[0mcustomer_details\u001b[0m\u001b[0;34m)\u001b[0m\u001b[0;34m\u001b[0m\u001b[0;34m\u001b[0m\u001b[0m\n\u001b[0m\u001b[1;32m     59\u001b[0m \u001b[0;34m\u001b[0m\u001b[0m\n\u001b[1;32m     60\u001b[0m \u001b[0;34m\u001b[0m\u001b[0m\n",
            "\u001b[0;32m<ipython-input-4-b2c86bff812f>\u001b[0m in \u001b[0;36mbook_room\u001b[0;34m(customer_details)\u001b[0m\n\u001b[1;32m     48\u001b[0m     \u001b[0marrival_date\u001b[0m \u001b[0;34m=\u001b[0m \u001b[0mcustomer_details\u001b[0m\u001b[0;34m[\u001b[0m\u001b[0;34m'arrival_date'\u001b[0m\u001b[0;34m]\u001b[0m\u001b[0;34m\u001b[0m\u001b[0;34m\u001b[0m\u001b[0m\n\u001b[1;32m     49\u001b[0m     \u001b[0mdeparture_date\u001b[0m \u001b[0;34m=\u001b[0m \u001b[0mcustomer_details\u001b[0m\u001b[0;34m[\u001b[0m\u001b[0;34m'departure_date'\u001b[0m\u001b[0;34m]\u001b[0m\u001b[0;34m\u001b[0m\u001b[0;34m\u001b[0m\u001b[0m\n\u001b[0;32m---> 50\u001b[0;31m     \u001b[0;32mif\u001b[0m \u001b[0mcheck_room_availability\u001b[0m\u001b[0;34m(\u001b[0m\u001b[0mroom_type\u001b[0m\u001b[0;34m,\u001b[0m \u001b[0marrival_date\u001b[0m\u001b[0;34m,\u001b[0m \u001b[0mdeparture_date\u001b[0m\u001b[0;34m)\u001b[0m\u001b[0;34m:\u001b[0m\u001b[0;34m\u001b[0m\u001b[0;34m\u001b[0m\u001b[0m\n\u001b[0m\u001b[1;32m     51\u001b[0m         \u001b[0mprint\u001b[0m\u001b[0;34m(\u001b[0m\u001b[0;34m\"Congratulations, your room has been booked successfully!\"\u001b[0m\u001b[0;34m)\u001b[0m\u001b[0;34m\u001b[0m\u001b[0;34m\u001b[0m\u001b[0m\n\u001b[1;32m     52\u001b[0m     \u001b[0;32melse\u001b[0m\u001b[0;34m:\u001b[0m\u001b[0;34m\u001b[0m\u001b[0;34m\u001b[0m\u001b[0m\n",
            "\u001b[0;32m<ipython-input-4-b2c86bff812f>\u001b[0m in \u001b[0;36mcheck_room_availability\u001b[0;34m(room_type, arrival_date, departure_date)\u001b[0m\n\u001b[1;32m     39\u001b[0m     \u001b[0;32mfor\u001b[0m \u001b[0mi\u001b[0m \u001b[0;32min\u001b[0m \u001b[0mrange\u001b[0m\u001b[0;34m(\u001b[0m\u001b[0mdelta\u001b[0m\u001b[0;34m.\u001b[0m\u001b[0mdays\u001b[0m \u001b[0;34m+\u001b[0m \u001b[0;36m1\u001b[0m\u001b[0;34m)\u001b[0m\u001b[0;34m:\u001b[0m\u001b[0;34m\u001b[0m\u001b[0;34m\u001b[0m\u001b[0m\n\u001b[1;32m     40\u001b[0m         \u001b[0mdate\u001b[0m \u001b[0;34m=\u001b[0m \u001b[0;34m(\u001b[0m\u001b[0marrival_date\u001b[0m \u001b[0;34m+\u001b[0m \u001b[0mdatetime\u001b[0m\u001b[0;34m.\u001b[0m\u001b[0mtimedelta\u001b[0m\u001b[0;34m(\u001b[0m\u001b[0mdays\u001b[0m\u001b[0;34m=\u001b[0m\u001b[0mi\u001b[0m\u001b[0;34m)\u001b[0m\u001b[0;34m)\u001b[0m\u001b[0;34m.\u001b[0m\u001b[0mstrftime\u001b[0m\u001b[0;34m(\u001b[0m\u001b[0;34m'%Y-%m-%d'\u001b[0m\u001b[0;34m)\u001b[0m\u001b[0;34m\u001b[0m\u001b[0;34m\u001b[0m\u001b[0m\n\u001b[0;32m---> 41\u001b[0;31m         \u001b[0;32mif\u001b[0m \u001b[0mroom_availability\u001b[0m\u001b[0;34m[\u001b[0m\u001b[0mroom_type\u001b[0m\u001b[0;34m]\u001b[0m\u001b[0;34m[\u001b[0m\u001b[0mdate\u001b[0m\u001b[0;34m]\u001b[0m\u001b[0;34m[\u001b[0m\u001b[0;34m'available'\u001b[0m\u001b[0;34m]\u001b[0m \u001b[0;32mis\u001b[0m \u001b[0;32mFalse\u001b[0m\u001b[0;34m:\u001b[0m\u001b[0;34m\u001b[0m\u001b[0;34m\u001b[0m\u001b[0m\n\u001b[0m\u001b[1;32m     42\u001b[0m             \u001b[0;32mreturn\u001b[0m \u001b[0;32mFalse\u001b[0m\u001b[0;34m\u001b[0m\u001b[0;34m\u001b[0m\u001b[0m\n\u001b[1;32m     43\u001b[0m     \u001b[0;32mreturn\u001b[0m \u001b[0;32mTrue\u001b[0m\u001b[0;34m\u001b[0m\u001b[0;34m\u001b[0m\u001b[0m\n",
            "\u001b[0;31mKeyError\u001b[0m: '1'"
          ]
        }
      ],
      "source": [
        "import datetime\n",
        "\n",
        "# Dictionary to store customer details\n",
        "customer_details = {}\n",
        "\n",
        "# Function to collect customer details\n",
        "def collect_customer_details():\n",
        "    customer_details['name'] = input(\"Enter your name: \")\n",
        "    customer_details['mobile_number'] = input(\"Enter your mobile number: \")\n",
        "    customer_details['address'] = input(\"Enter your address: \")\n",
        "    customer_details['id_proof'] = input(\"Enter your ID proof number: \")\n",
        "    customer_details['room_type'] = input(\"Enter your preferred room type: \")\n",
        "    customer_details['arrival_date'] = input(\"Enter your arrival date (YYYY-MM-DD): \")\n",
        "    customer_details['departure_date'] = input(\"Enter your departure date (YYYY-MM-DD): \")\n",
        "    return customer_details\n",
        "\n",
        "# Function to check the availability of rooms\n",
        "def check_room_availability(room_type, arrival_date, departure_date):\n",
        "\n",
        "    room_availability = {\n",
        "        'deluxe': {\n",
        "            '2022-12-25': {'available': False},\n",
        "            '2022-12-26': {'available': True},\n",
        "            '2022-12-27': {'available': True},\n",
        "            '2022-12-28': {'available': False}\n",
        "        },\n",
        "        'suite': {\n",
        "            '2022-12-25': {'available': True},\n",
        "            '2022-12-26': {'available': False},\n",
        "            '2022-12-27': {'available': False},\n",
        "            '2022-12-28': {'available': True}\n",
        "        }\n",
        "    }\n",
        "\n",
        "    arrival_date = datetime.datetime.strptime(arrival_date, '%Y-%m-%d')\n",
        "    departure_date = datetime.datetime.strptime(departure_date, '%Y-%m-%d')\n",
        "    delta = departure_date - arrival_date\n",
        "\n",
        "    for i in range(delta.days + 1):\n",
        "        date = (arrival_date + datetime.timedelta(days=i)).strftime('%Y-%m-%d')\n",
        "        if room_availability[room_type][date]['available'] is False:\n",
        "            return False\n",
        "    return True\n",
        "\n",
        "# Function to book a room\n",
        "def book_room(customer_details):\n",
        "    room_type = customer_details['room_type']\n",
        "    arrival_date = customer_details['arrival_date']\n",
        "    departure_date = customer_details['departure_date']\n",
        "    if check_room_availability(room_type, arrival_date, departure_date):\n",
        "        print(\"Congratulations, your room has been booked successfully!\")\n",
        "    else:\n",
        "        print(\"Sorry, the selected room is not available on the given dates.\")\n",
        "\n",
        "# Main function to run the chatbot\n",
        "def run_chatbot():\n",
        "    customer_details = collect_customer_details()\n",
        "    book_room(customer_details)\n",
        "\n",
        "\n",
        "if __name__ == \"__main__\":\n",
        "    run_chatbot()\n"
      ]
    }
  ]
}